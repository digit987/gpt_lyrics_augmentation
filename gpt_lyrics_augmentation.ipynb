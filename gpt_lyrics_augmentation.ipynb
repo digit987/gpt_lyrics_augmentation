{
 "cells": [
  {
   "cell_type": "code",
   "execution_count": 142,
   "metadata": {},
   "outputs": [],
   "source": [
    "pd.options.display.max_colwidth = 1000"
   ]
  },
  {
   "cell_type": "code",
   "execution_count": 143,
   "metadata": {
    "_cell_guid": "b1076dfc-b9ad-4769-8c92-a6c4dae69d19",
    "_uuid": "8f2839f25d086af736a60e9eeb907d3b93b6e0e5",
    "execution": {
     "iopub.execute_input": "2023-09-26T03:40:14.673899Z",
     "iopub.status.busy": "2023-09-26T03:40:14.673485Z",
     "iopub.status.idle": "2023-09-26T03:40:14.685166Z",
     "shell.execute_reply": "2023-09-26T03:40:14.683630Z",
     "shell.execute_reply.started": "2023-09-26T03:40:14.673850Z"
    }
   },
   "outputs": [],
   "source": [
    "import numpy as np\n",
    "import pandas as pd\n",
    "import openai\n",
    "import os\n",
    "import string\n",
    "import re\n",
    "import random"
   ]
  },
  {
   "cell_type": "markdown",
   "metadata": {},
   "source": [
    "Dataset taken from Kaggle (https://www.kaggle.com/datasets/mateibejan/multilingual-lyrics-for-genre-classification)"
   ]
  },
  {
   "cell_type": "code",
   "execution_count": 169,
   "metadata": {
    "execution": {
     "iopub.execute_input": "2023-09-26T03:40:14.687961Z",
     "iopub.status.busy": "2023-09-26T03:40:14.687163Z",
     "iopub.status.idle": "2023-09-26T03:40:23.215241Z",
     "shell.execute_reply": "2023-09-26T03:40:23.213980Z",
     "shell.execute_reply.started": "2023-09-26T03:40:14.687925Z"
    }
   },
   "outputs": [],
   "source": [
    "df_train = pd.read_csv(\"dataset/train.csv\")"
   ]
  },
  {
   "cell_type": "code",
   "execution_count": 170,
   "metadata": {
    "execution": {
     "iopub.execute_input": "2023-09-26T03:40:14.687961Z",
     "iopub.status.busy": "2023-09-26T03:40:14.687163Z",
     "iopub.status.idle": "2023-09-26T03:40:23.215241Z",
     "shell.execute_reply": "2023-09-26T03:40:23.213980Z",
     "shell.execute_reply.started": "2023-09-26T03:40:14.687925Z"
    }
   },
   "outputs": [],
   "source": [
    "df_test = pd.read_csv(\"dataset/test.csv\")"
   ]
  },
  {
   "cell_type": "code",
   "execution_count": 171,
   "metadata": {
    "execution": {
     "iopub.execute_input": "2023-09-26T03:40:23.217108Z",
     "iopub.status.busy": "2023-09-26T03:40:23.216689Z",
     "iopub.status.idle": "2023-09-26T03:40:24.266506Z",
     "shell.execute_reply": "2023-09-26T03:40:24.265429Z",
     "shell.execute_reply.started": "2023-09-26T03:40:23.217078Z"
    }
   },
   "outputs": [
    {
     "data": {
      "text/html": [
       "<div>\n",
       "<style scoped>\n",
       "    .dataframe tbody tr th:only-of-type {\n",
       "        vertical-align: middle;\n",
       "    }\n",
       "\n",
       "    .dataframe tbody tr th {\n",
       "        vertical-align: top;\n",
       "    }\n",
       "\n",
       "    .dataframe thead th {\n",
       "        text-align: right;\n",
       "    }\n",
       "</style>\n",
       "<table border=\"1\" class=\"dataframe\">\n",
       "  <thead>\n",
       "    <tr style=\"text-align: right;\">\n",
       "      <th></th>\n",
       "      <th>Artist</th>\n",
       "      <th>Song</th>\n",
       "      <th>Genre</th>\n",
       "      <th>Language</th>\n",
       "      <th>Lyrics</th>\n",
       "    </tr>\n",
       "  </thead>\n",
       "  <tbody>\n",
       "    <tr>\n",
       "      <th>count</th>\n",
       "      <td>290183</td>\n",
       "      <td>290182</td>\n",
       "      <td>290183</td>\n",
       "      <td>290179</td>\n",
       "      <td>290148</td>\n",
       "    </tr>\n",
       "    <tr>\n",
       "      <th>unique</th>\n",
       "      <td>11152</td>\n",
       "      <td>164357</td>\n",
       "      <td>10</td>\n",
       "      <td>33</td>\n",
       "      <td>249297</td>\n",
       "    </tr>\n",
       "    <tr>\n",
       "      <th>top</th>\n",
       "      <td>elvis presley</td>\n",
       "      <td>intro</td>\n",
       "      <td>Rock</td>\n",
       "      <td>en</td>\n",
       "      <td>Instrumental</td>\n",
       "    </tr>\n",
       "    <tr>\n",
       "      <th>freq</th>\n",
       "      <td>1611</td>\n",
       "      <td>163</td>\n",
       "      <td>121404</td>\n",
       "      <td>250197</td>\n",
       "      <td>540</td>\n",
       "    </tr>\n",
       "  </tbody>\n",
       "</table>\n",
       "</div>"
      ],
      "text/plain": [
       "               Artist    Song   Genre Language        Lyrics\n",
       "count          290183  290182  290183   290179        290148\n",
       "unique          11152  164357      10       33        249297\n",
       "top     elvis presley   intro    Rock       en  Instrumental\n",
       "freq             1611     163  121404   250197           540"
      ]
     },
     "execution_count": 171,
     "metadata": {},
     "output_type": "execute_result"
    }
   ],
   "source": [
    "df_train.describe()"
   ]
  },
  {
   "cell_type": "code",
   "execution_count": 172,
   "metadata": {},
   "outputs": [],
   "source": [
    "df_train = df_train[df_train['Language']=='en']"
   ]
  },
  {
   "cell_type": "code",
   "execution_count": 173,
   "metadata": {
    "execution": {
     "iopub.execute_input": "2023-09-26T03:40:25.809529Z",
     "iopub.status.busy": "2023-09-26T03:40:25.809100Z",
     "iopub.status.idle": "2023-09-26T03:40:25.841134Z",
     "shell.execute_reply": "2023-09-26T03:40:25.840279Z",
     "shell.execute_reply.started": "2023-09-26T03:40:25.809489Z"
    }
   },
   "outputs": [
    {
     "data": {
      "text/plain": [
       "0"
      ]
     },
     "execution_count": 173,
     "metadata": {},
     "output_type": "execute_result"
    }
   ],
   "source": [
    "df_train['Genre'].isnull().sum().sum()"
   ]
  },
  {
   "cell_type": "code",
   "execution_count": 174,
   "metadata": {
    "execution": {
     "iopub.execute_input": "2023-09-26T03:40:25.843321Z",
     "iopub.status.busy": "2023-09-26T03:40:25.842520Z",
     "iopub.status.idle": "2023-09-26T03:40:25.893072Z",
     "shell.execute_reply": "2023-09-26T03:40:25.891721Z",
     "shell.execute_reply.started": "2023-09-26T03:40:25.843283Z"
    }
   },
   "outputs": [
    {
     "data": {
      "text/plain": [
       "0"
      ]
     },
     "execution_count": 174,
     "metadata": {},
     "output_type": "execute_result"
    }
   ],
   "source": [
    "df_train['Lyrics'].isnull().sum().sum()"
   ]
  },
  {
   "cell_type": "code",
   "execution_count": 175,
   "metadata": {},
   "outputs": [
    {
     "data": {
      "text/html": [
       "<div>\n",
       "<style scoped>\n",
       "    .dataframe tbody tr th:only-of-type {\n",
       "        vertical-align: middle;\n",
       "    }\n",
       "\n",
       "    .dataframe tbody tr th {\n",
       "        vertical-align: top;\n",
       "    }\n",
       "\n",
       "    .dataframe thead th {\n",
       "        text-align: right;\n",
       "    }\n",
       "</style>\n",
       "<table border=\"1\" class=\"dataframe\">\n",
       "  <thead>\n",
       "    <tr style=\"text-align: right;\">\n",
       "      <th></th>\n",
       "      <th>Artist</th>\n",
       "      <th>Song</th>\n",
       "      <th>Genre</th>\n",
       "      <th>Language</th>\n",
       "      <th>Lyrics</th>\n",
       "    </tr>\n",
       "  </thead>\n",
       "  <tbody>\n",
       "    <tr>\n",
       "      <th>count</th>\n",
       "      <td>250197</td>\n",
       "      <td>250196</td>\n",
       "      <td>250197</td>\n",
       "      <td>250197</td>\n",
       "      <td>250197</td>\n",
       "    </tr>\n",
       "    <tr>\n",
       "      <th>unique</th>\n",
       "      <td>10701</td>\n",
       "      <td>137660</td>\n",
       "      <td>10</td>\n",
       "      <td>1</td>\n",
       "      <td>218551</td>\n",
       "    </tr>\n",
       "    <tr>\n",
       "      <th>top</th>\n",
       "      <td>elvis presley</td>\n",
       "      <td>home</td>\n",
       "      <td>Rock</td>\n",
       "      <td>en</td>\n",
       "      <td>My heart is sad and lonely\\nFor you I sigh, for you dear only\\nWhy haven't you seen it\\nI'm all for you body and soul\\n\\nI spend my days in longing\\nAnd wondering why it's me you're wronging\\nI tell you I mean it\\nI'm all for you body and soul\\n\\nI can't believe it\\nIt's hard to conceive it\\nThat you'd turn away romance\\nAre you pretending\\nIt looks like the ending\\nUnless I could have just one more chance to prove, dear\\n\\nMy life a wreck you're making\\nYou know I'm yours for just the taking\\nI'd gladly surrender myself to you body and soul\\n\\nMy life a wreck you're making\\nYou know I'm yours for the very taking\\nI'd gladly surrender myself to you body and soul</td>\n",
       "    </tr>\n",
       "    <tr>\n",
       "      <th>freq</th>\n",
       "      <td>1598</td>\n",
       "      <td>148</td>\n",
       "      <td>107145</td>\n",
       "      <td>250197</td>\n",
       "      <td>89</td>\n",
       "    </tr>\n",
       "  </tbody>\n",
       "</table>\n",
       "</div>"
      ],
      "text/plain": [
       "               Artist    Song   Genre Language  \\\n",
       "count          250197  250196  250197   250197   \n",
       "unique          10701  137660      10        1   \n",
       "top     elvis presley    home    Rock       en   \n",
       "freq             1598     148  107145   250197   \n",
       "\n",
       "                                                                                                                                                                                                                                                                                                                                                                                                                                                                                                                                                                                                                                                                                                Lyrics  \n",
       "count                                                                                                                                                                                                                                                                                                                                                                                                                                                                                                                                                                                                                                                                                           250197  \n",
       "unique                                                                                                                                                                                                                                                                                                                                                                                                                                                                                                                                                                                                                                                                                          218551  \n",
       "top     My heart is sad and lonely\\nFor you I sigh, for you dear only\\nWhy haven't you seen it\\nI'm all for you body and soul\\n\\nI spend my days in longing\\nAnd wondering why it's me you're wronging\\nI tell you I mean it\\nI'm all for you body and soul\\n\\nI can't believe it\\nIt's hard to conceive it\\nThat you'd turn away romance\\nAre you pretending\\nIt looks like the ending\\nUnless I could have just one more chance to prove, dear\\n\\nMy life a wreck you're making\\nYou know I'm yours for just the taking\\nI'd gladly surrender myself to you body and soul\\n\\nMy life a wreck you're making\\nYou know I'm yours for the very taking\\nI'd gladly surrender myself to you body and soul  \n",
       "freq                                                                                                                                                                                                                                                                                                                                                                                                                                                                                                                                                                                                                                                                                                89  "
      ]
     },
     "execution_count": 175,
     "metadata": {},
     "output_type": "execute_result"
    }
   ],
   "source": [
    "df_train.describe()"
   ]
  },
  {
   "cell_type": "code",
   "execution_count": 176,
   "metadata": {
    "execution": {
     "iopub.execute_input": "2023-09-26T03:40:25.843321Z",
     "iopub.status.busy": "2023-09-26T03:40:25.842520Z",
     "iopub.status.idle": "2023-09-26T03:40:25.893072Z",
     "shell.execute_reply": "2023-09-26T03:40:25.891721Z",
     "shell.execute_reply.started": "2023-09-26T03:40:25.843283Z"
    }
   },
   "outputs": [
    {
     "data": {
      "text/plain": [
       "0"
      ]
     },
     "execution_count": 176,
     "metadata": {},
     "output_type": "execute_result"
    }
   ],
   "source": [
    "df_train['Lyrics'].isnull().sum().sum()"
   ]
  },
  {
   "cell_type": "markdown",
   "metadata": {},
   "source": [
    "Number of samples of each genre to be considered are as follows:"
   ]
  },
  {
   "cell_type": "code",
   "execution_count": 177,
   "metadata": {},
   "outputs": [
    {
     "data": {
      "text/plain": [
       "array(['Rock', 'Metal', 'Pop', 'Indie', 'Folk', 'Electronic', 'R&B',\n",
       "       'Jazz', 'Hip-Hop', 'Country'], dtype=object)"
      ]
     },
     "execution_count": 177,
     "metadata": {},
     "output_type": "execute_result"
    }
   ],
   "source": [
    "df_train['Genre'].unique()"
   ]
  },
  {
   "cell_type": "code",
   "execution_count": 178,
   "metadata": {},
   "outputs": [],
   "source": [
    "genre_list = ['Rock', 'Pop', 'Metal', 'Jazz', 'Folk', 'Indie', 'R&B', 'Hip-Hop', 'Electronic', 'Country']"
   ]
  },
  {
   "cell_type": "markdown",
   "metadata": {},
   "source": [
    "Taking samples for different genres"
   ]
  },
  {
   "cell_type": "code",
   "execution_count": 179,
   "metadata": {},
   "outputs": [],
   "source": [
    "rock_lyrics_train_sample_size = 3300\n",
    "pop_lyrics_train_sample_size = 3100\n",
    "metal_lyrics_train_sample_size = 2900\n",
    "jazz_lyrics_train_sample_size = 2700\n",
    "folk_lyrics_train_sample_size = 2500\n",
    "indie_lyrics_train_sample_size = 2300\n",
    "rnb_lyrics_train_sample_size = 2100\n",
    "hip_hop_lyrics_train_sample_size = 1900\n",
    "electronic_lyrics_train_sample_size = 1700\n",
    "country_lyrics_train_sample_size = 1500"
   ]
  },
  {
   "cell_type": "code",
   "execution_count": 180,
   "metadata": {},
   "outputs": [],
   "source": [
    "rock_lyrics_test_sample_size = 550\n",
    "pop_lyrics_test_sample_size = 500\n",
    "metal_lyrics_test_sample_size = 450\n",
    "jazz_lyrics_test_sample_size = 400\n",
    "folk_lyrics_test_sample_size = 350\n",
    "indie_lyrics_test_sample_size = 300\n",
    "rnb_lyrics_test_sample_size = 250\n",
    "hip_hop_lyrics_test_sample_size = 200\n",
    "electronic_lyrics_test_sample_size = 150\n",
    "country_lyrics_test_sample_size = 100"
   ]
  },
  {
   "cell_type": "code",
   "execution_count": 181,
   "metadata": {},
   "outputs": [],
   "source": [
    "genre_lyrics_train_sample_size_list = [rock_lyrics_train_sample_size, pop_lyrics_train_sample_size, metal_lyrics_train_sample_size,\n",
    "                                jazz_lyrics_train_sample_size, folk_lyrics_train_sample_size, indie_lyrics_train_sample_size,\n",
    "                                rnb_lyrics_train_sample_size, hip_hop_lyrics_train_sample_size, electronic_lyrics_train_sample_size,\n",
    "                                country_lyrics_train_sample_size]"
   ]
  },
  {
   "cell_type": "code",
   "execution_count": 182,
   "metadata": {},
   "outputs": [],
   "source": [
    "genre_samples_df_train_list = []"
   ]
  },
  {
   "cell_type": "code",
   "execution_count": 183,
   "metadata": {
    "execution": {
     "iopub.execute_input": "2023-09-26T03:41:16.713941Z",
     "iopub.status.busy": "2023-09-26T03:41:16.713527Z",
     "iopub.status.idle": "2023-09-26T03:41:17.160498Z",
     "shell.execute_reply": "2023-09-26T03:41:17.159302Z",
     "shell.execute_reply.started": "2023-09-26T03:41:16.713904Z"
    }
   },
   "outputs": [],
   "source": [
    "for i in range(len(genre_list)):\n",
    "    genre_samples_df_train_list.append(df_train[df_train['Genre']==genre_list[i]].sample(n=genre_lyrics_train_sample_size_list[i]))"
   ]
  },
  {
   "cell_type": "code",
   "execution_count": 184,
   "metadata": {},
   "outputs": [
    {
     "data": {
      "text/plain": [
       "10"
      ]
     },
     "execution_count": 184,
     "metadata": {},
     "output_type": "execute_result"
    }
   ],
   "source": [
    "len(genre_samples_df_train_list)"
   ]
  },
  {
   "cell_type": "markdown",
   "metadata": {},
   "source": [
    "Limiting a Lyrics to length of 512"
   ]
  },
  {
   "cell_type": "code",
   "execution_count": 186,
   "metadata": {},
   "outputs": [],
   "source": [
    "lyrics_length = 512"
   ]
  },
  {
   "cell_type": "markdown",
   "metadata": {},
   "source": [
    "Preprocessing Lyrics by removing punctuations, email address and digits"
   ]
  },
  {
   "cell_type": "code",
   "execution_count": 247,
   "metadata": {},
   "outputs": [],
   "source": [
    "all_lyrics_in_all_sampled_genre = []\n",
    "all_lyrics_in_all_sampled_genre_length = []\n",
    "for i in genre_samples_df_train_list:\n",
    "    total_lyrics_in_sampled_genre = len(i['Lyrics'])\n",
    "    all_lyrics_in_sampled_genre = []\n",
    "    all_lyrics_in_sampled_genre_length = []\n",
    "    for lyrics_counter in range(total_lyrics_in_sampled_genre):\n",
    "        lyrics = i['Lyrics'].iloc[[lyrics_counter]].values[0]\n",
    "        #Removing punctuation\n",
    "        lyrics = lyrics.translate(str.maketrans('', '', string.punctuation))\n",
    "        #Removing email\n",
    "        lyrics = re.sub(\"\\S*@\\S*\\s?\", \"\", lyrics)\n",
    "        #Removing digits\n",
    "        lyrics = re.sub(\"\\d+\", \"\", lyrics)\n",
    "        #Trimming lyrics to length 512\n",
    "        if len(lyrics) >= lyrics_length:\n",
    "            lyrics = lyrics[0:lyrics_length]\n",
    "        else:\n",
    "            lyrics = lyrics.ljust(512, ' ')\n",
    "        all_lyrics_in_sampled_genre.append(lyrics)\n",
    "        all_lyrics_in_sampled_genre_length.append(len(lyrics))\n",
    "    all_lyrics_in_all_sampled_genre.append(all_lyrics_in_sampled_genre)\n",
    "    all_lyrics_in_all_sampled_genre_length.append(all_lyrics_in_sampled_genre_length)"
   ]
  },
  {
   "cell_type": "code",
   "execution_count": 188,
   "metadata": {},
   "outputs": [],
   "source": [
    "for i in range(len(all_lyrics_in_all_sampled_genre)):\n",
    "    genre_samples_df_train_list[i]['Lyrics'] = all_lyrics_in_all_sampled_genre[i]\n",
    "    genre_samples_df_train_list[i] = genre_samples_df_train_list[i].drop_duplicates(subset = \"Lyrics\")"
   ]
  },
  {
   "cell_type": "code",
   "execution_count": 189,
   "metadata": {
    "execution": {
     "iopub.execute_input": "2023-09-26T03:41:17.162460Z",
     "iopub.status.busy": "2023-09-26T03:41:17.162116Z",
     "iopub.status.idle": "2023-09-26T03:41:17.181333Z",
     "shell.execute_reply": "2023-09-26T03:41:17.179695Z",
     "shell.execute_reply.started": "2023-09-26T03:41:17.162430Z"
    }
   },
   "outputs": [],
   "source": [
    "df_train = pd.concat(genre_samples_df_train_list, ignore_index=True)"
   ]
  },
  {
   "cell_type": "code",
   "execution_count": 190,
   "metadata": {
    "execution": {
     "iopub.execute_input": "2023-09-26T03:41:17.182969Z",
     "iopub.status.busy": "2023-09-26T03:41:17.182628Z",
     "iopub.status.idle": "2023-09-26T03:41:17.209225Z",
     "shell.execute_reply": "2023-09-26T03:41:17.208073Z",
     "shell.execute_reply.started": "2023-09-26T03:41:17.182939Z"
    }
   },
   "outputs": [],
   "source": [
    "df_train = df_train.sample(frac=1).reset_index(drop=True)"
   ]
  },
  {
   "cell_type": "code",
   "execution_count": 191,
   "metadata": {
    "execution": {
     "iopub.execute_input": "2023-09-26T03:41:29.054943Z",
     "iopub.status.busy": "2023-09-26T03:41:29.054456Z",
     "iopub.status.idle": "2023-09-26T03:41:29.151625Z",
     "shell.execute_reply": "2023-09-26T03:41:29.150260Z",
     "shell.execute_reply.started": "2023-09-26T03:41:29.054907Z"
    }
   },
   "outputs": [
    {
     "data": {
      "text/html": [
       "<div>\n",
       "<style scoped>\n",
       "    .dataframe tbody tr th:only-of-type {\n",
       "        vertical-align: middle;\n",
       "    }\n",
       "\n",
       "    .dataframe tbody tr th {\n",
       "        vertical-align: top;\n",
       "    }\n",
       "\n",
       "    .dataframe thead th {\n",
       "        text-align: right;\n",
       "    }\n",
       "</style>\n",
       "<table border=\"1\" class=\"dataframe\">\n",
       "  <thead>\n",
       "    <tr style=\"text-align: right;\">\n",
       "      <th></th>\n",
       "      <th>Artist</th>\n",
       "      <th>Song</th>\n",
       "      <th>Genre</th>\n",
       "      <th>Language</th>\n",
       "      <th>Lyrics</th>\n",
       "    </tr>\n",
       "  </thead>\n",
       "  <tbody>\n",
       "    <tr>\n",
       "      <th>count</th>\n",
       "      <td>23174</td>\n",
       "      <td>23174</td>\n",
       "      <td>23174</td>\n",
       "      <td>23174</td>\n",
       "      <td>23174</td>\n",
       "    </tr>\n",
       "    <tr>\n",
       "      <th>unique</th>\n",
       "      <td>5008</td>\n",
       "      <td>20185</td>\n",
       "      <td>10</td>\n",
       "      <td>1</td>\n",
       "      <td>23042</td>\n",
       "    </tr>\n",
       "    <tr>\n",
       "      <th>top</th>\n",
       "      <td>ella fitzgerald</td>\n",
       "      <td>home</td>\n",
       "      <td>Rock</td>\n",
       "      <td>en</td>\n",
       "      <td>I am not the only traveler\\nWho has not repaid his debt\\nIve been searching for a trail to follow again\\nTake me back to the night we met\\n\\nAnd then I can tell myself\\nWhat the hell Im supposed to do\\nAnd then I can tell myself\\nNot to ride along with you\\n\\nI had all and then most of you\\nSome and now none of you\\nTake me back to the night we met\\nI dont know what Im supposed to do\\nHaunted by the ghost of you\\nOh take me back to the night we met\\n\\nWhen the night was full of terrors\\nAnd your eyes were filled with tears\\nW</td>\n",
       "    </tr>\n",
       "    <tr>\n",
       "      <th>freq</th>\n",
       "      <td>155</td>\n",
       "      <td>19</td>\n",
       "      <td>3290</td>\n",
       "      <td>23174</td>\n",
       "      <td>4</td>\n",
       "    </tr>\n",
       "  </tbody>\n",
       "</table>\n",
       "</div>"
      ],
      "text/plain": [
       "                 Artist   Song  Genre Language  \\\n",
       "count             23174  23174  23174    23174   \n",
       "unique             5008  20185     10        1   \n",
       "top     ella fitzgerald   home   Rock       en   \n",
       "freq                155     19   3290    23174   \n",
       "\n",
       "                                                                                                                                                                                                                                                                                                                                                                                                                                                                                                                                                     Lyrics  \n",
       "count                                                                                                                                                                                                                                                                                                                                                                                                                                                                                                                                                 23174  \n",
       "unique                                                                                                                                                                                                                                                                                                                                                                                                                                                                                                                                                23042  \n",
       "top     I am not the only traveler\\nWho has not repaid his debt\\nIve been searching for a trail to follow again\\nTake me back to the night we met\\n\\nAnd then I can tell myself\\nWhat the hell Im supposed to do\\nAnd then I can tell myself\\nNot to ride along with you\\n\\nI had all and then most of you\\nSome and now none of you\\nTake me back to the night we met\\nI dont know what Im supposed to do\\nHaunted by the ghost of you\\nOh take me back to the night we met\\n\\nWhen the night was full of terrors\\nAnd your eyes were filled with tears\\nW  \n",
       "freq                                                                                                                                                                                                                                                                                                                                                                                                                                                                                                                                                      4  "
      ]
     },
     "execution_count": 191,
     "metadata": {},
     "output_type": "execute_result"
    }
   ],
   "source": [
    "df_train.describe()"
   ]
  },
  {
   "cell_type": "code",
   "execution_count": 194,
   "metadata": {},
   "outputs": [
    {
     "data": {
      "text/plain": [
       "Rock          3290\n",
       "Pop           3077\n",
       "Metal         2864\n",
       "Folk          2470\n",
       "Indie         2233\n",
       "R&B           2088\n",
       "Jazz          2062\n",
       "Hip-Hop       1898\n",
       "Electronic    1693\n",
       "Country       1499\n",
       "Name: Genre, dtype: int64"
      ]
     },
     "execution_count": 194,
     "metadata": {},
     "output_type": "execute_result"
    }
   ],
   "source": [
    "df_train['Genre'].value_counts()"
   ]
  },
  {
   "cell_type": "code",
   "execution_count": 233,
   "metadata": {},
   "outputs": [
    {
     "name": "stdout",
     "output_type": "stream",
     "text": [
      "3290\n",
      "3077\n",
      "2864\n",
      "2062\n",
      "2470\n",
      "2233\n",
      "2088\n",
      "1898\n",
      "1693\n",
      "1499\n"
     ]
    }
   ],
   "source": [
    "for i in range(10):\n",
    "    print(len(df_train[df_train['Genre']==genre_list[i]]))"
   ]
  },
  {
   "cell_type": "code",
   "execution_count": 218,
   "metadata": {
    "execution": {
     "iopub.execute_input": "2023-09-28T04:38:45.505980Z",
     "iopub.status.busy": "2023-09-28T04:38:45.505540Z",
     "iopub.status.idle": "2023-09-28T04:39:33.178380Z",
     "shell.execute_reply": "2023-09-28T04:39:33.176326Z",
     "shell.execute_reply.started": "2023-09-28T04:38:45.505947Z"
    }
   },
   "outputs": [],
   "source": [
    "synthetic_rock_lyrics = []\n",
    "synthetic_pop_lyrics = []\n",
    "synthetic_metal_lyrics = []\n",
    "synthetic_jazz_lyrics = []\n",
    "synthetic_folk_lyrics = []\n",
    "synthetic_indie_lyrics = []\n",
    "synthetic_rnb_lyrics = []\n",
    "synthetic_hip_hop_lyrics = []\n",
    "synthetic_electronic_lyrics = []\n",
    "synthetic_country_lyrics = []"
   ]
  },
  {
   "cell_type": "code",
   "execution_count": 219,
   "metadata": {},
   "outputs": [],
   "source": [
    "synthetic_genre_lyrics_list = [synthetic_rock_lyrics, synthetic_pop_lyrics, synthetic_metal_lyrics, synthetic_jazz_lyrics,\n",
    "                              synthetic_folk_lyrics, synthetic_indie_lyrics, synthetic_rnb_lyrics, synthetic_hip_hop_lyrics,\n",
    "                              synthetic_electronic_lyrics, synthetic_country_lyrics]"
   ]
  },
  {
   "cell_type": "code",
   "execution_count": 220,
   "metadata": {},
   "outputs": [],
   "source": [
    "synthetic_rock_lyrics_size = rock_lyrics_train_sample_size - rock_lyrics_train_sample_size\n",
    "synthetic_pop_lyrics_size = rock_lyrics_train_sample_size - pop_lyrics_train_sample_size\n",
    "synthetic_metal_lyrics_size = rock_lyrics_train_sample_size - metal_lyrics_train_sample_size\n",
    "synthetic_jazz_lyrics_size = rock_lyrics_train_sample_size - jazz_lyrics_train_sample_size\n",
    "synthetic_folk_lyrics_size = rock_lyrics_train_sample_size - folk_lyrics_train_sample_size\n",
    "synthetic_indie_lyrics_size = rock_lyrics_train_sample_size - indie_lyrics_train_sample_size\n",
    "synthetic_rnb_lyrics_size = rock_lyrics_train_sample_size - rnb_lyrics_train_sample_size\n",
    "synthetic_hip_hop_lyrics_size = rock_lyrics_train_sample_size - hip_hop_lyrics_train_sample_size\n",
    "synthetic_electronic_lyrics_size = rock_lyrics_train_sample_size - electronic_lyrics_train_sample_size\n",
    "synthetic_country_lyrics_size = rock_lyrics_train_sample_size - country_lyrics_train_sample_size"
   ]
  },
  {
   "cell_type": "code",
   "execution_count": 221,
   "metadata": {},
   "outputs": [],
   "source": [
    "synthetic_genre_lyrics_size_list = [synthetic_rock_lyrics_size, synthetic_pop_lyrics_size, synthetic_metal_lyrics_size,\n",
    "                                   synthetic_jazz_lyrics_size, synthetic_folk_lyrics_size, synthetic_indie_lyrics_size,\n",
    "                                   synthetic_rnb_lyrics_size, synthetic_hip_hop_lyrics_size, synthetic_electronic_lyrics_size,\n",
    "                                   synthetic_country_lyrics_size]"
   ]
  },
  {
   "cell_type": "markdown",
   "metadata": {},
   "source": [
    "As Lyrics Length is 512, number of tokens to be generated is limited to 100, \n",
    "assuming each token is approximately of 5 characters."
   ]
  },
  {
   "cell_type": "code",
   "execution_count": 222,
   "metadata": {},
   "outputs": [],
   "source": [
    "def synthetic_lyrics_generator(random_genre_lyrics):\n",
    "    openai.api_key = \"\"\n",
    "\n",
    "    prompt = \"Generate a lyrics similar to this:\" + random_genre_lyrics\n",
    "\n",
    "    messages=[{\"role\": \"user\", \"content\": prompt}]\n",
    "\n",
    "    response = openai.ChatCompletion.create(\n",
    "      model=\"gpt-3.5-turbo\",\n",
    "      messages=messages,\n",
    "      temperature=0.5,\n",
    "      max_tokens=100,\n",
    "      top_p=1.0,\n",
    "      frequency_penalty=0.0,\n",
    "      presence_penalty=0.0\n",
    "    )\n",
    "\n",
    "    return response['choices'][0]['message']['content']"
   ]
  },
  {
   "cell_type": "code",
   "execution_count": 2,
   "metadata": {},
   "outputs": [
    {
     "name": "stdout",
     "output_type": "stream",
     "text": [
      "\n"
     ]
    }
   ],
   "source": [
    "for i in range(10):\n",
    "    for j in range(len(df_train[df_train['Genre']==genre_list[i]])):\n",
    "        random_genre_lyrics = df_train[df_train['Genre']==genre_list[i]]['Lyrics'].sample(n=1).to_string(index=False)\n",
    "        generated_lyrics = synthetic_lyrics_generator(random_genre_lyrics)\n",
    "        if generated_lyrics not in synthetic_genre_lyrics_list[i]:\n",
    "            synthetic_genre_lyrics_list[i].append(generated_lyrics)"
   ]
  },
  {
   "cell_type": "code",
   "execution_count": 225,
   "metadata": {},
   "outputs": [
    {
     "name": "stdout",
     "output_type": "stream",
     "text": [
      "---------Genre 1 --------\n",
      "--------------Lyrics 1 in Genre 1 ---------\n",
      "omanticizing\n",
      "The weight of my broken family tree\n",
      "My father, he carried burdens\n",
      "With a mask of stoicism, he hid his plea\n",
      "\n",
      "I've grown tired of wishful thinking\n",
      "It weighs heavy on my chest\n",
      "No room for second chances\n",
      "I carry the weight as I leave the rest\n",
      "\n",
      "Pride consumed my father's heart\n",
      "But never did he take pride in me\n",
      "I fought for my own survival\n",
      "Yet I was painted as the villain, you see\n",
      "\n",
      "You dev\n",
      "---------Genre 2 --------\n",
      "--------------Lyrics 1 in Genre 2 ---------\n",
      "ding her with a stare\\nShe plays the game without a care\\nBut deep down, she's feeling lonely, oh yeah\n",
      "\n",
      "She's a risk-taker, living on the edge\n",
      "Leaving hearts shattered, with every pledge\n",
      "But inside, there's a voice that begs\n",
      "For someone to love her, to hold and protect\n",
      "\n",
      "So why not take a chance\n",
      "On this Hot Street, where passions dance\n",
      "Feel the rhythm, let your heart advance\n",
      "In this world of desire, take\n",
      "---------Genre 3 --------\n",
      "--------------Lyrics 1 in Genre 3 ---------\n",
      "turn on me\n",
      "But I've learned to cope\n",
      "With this empty home\n",
      "I've grown tired of your lies\n",
      "And your distant eyes\n",
      "\n",
      "I'll be packing my bags\n",
      "Leaving all that we had\n",
      "This place holds no love\n",
      "It's just an empty shell\n",
      "I'll find my own way\n",
      "I'll be okay\n",
      "\n",
      "Home, this house is not a home\n",
      "Home, this house is not a home\n",
      "I'll find my own place to roam\n",
      "I'm better off alone\n",
      "---------Genre 4 --------\n",
      "--------------Lyrics 1 in Genre 4 ---------\n",
      "The autumn wind blew through the town, I recall\n",
      "In September, as the leaves began to fall\n",
      "The sky turned gray, just like a fading fire\n",
      "That September, when our love reached its highest wire\n",
      "\n",
      "Every word you spoke, a melody so tender\n",
      "The raindrops danced, creating a sweet surrender\n",
      "Though seasons change, and spring is now in bloom\n",
      "In my heart, it's still September, our love's perfume\n",
      "\n",
      "To every word of love, I held onto your embrace\n",
      "\n",
      "---------Genre 5 --------\n",
      "--------------Lyrics 1 in Genre 5 ---------\n",
      "en watch him fall\\n\\nYes sign of judgement yes\\nSign of judgement yes\\nSign of judgement time aint long\\n\\nYes sign of judgement yes\\nSign of judgement yes\\nSign of judgement time aint long\\n\\nI see the signs all around\\nThe world is in decay\\nPeople blinded by their greed\\nIgnoring the price they'll pay\\n\\nI said yes sign of judgement yes\\nSign of judgement yes\\nSign of judgement time aint long\\n\\nYes sign of judgement yes\n",
      "---------Genre 6 --------\n",
      "--------------Lyrics 1 in Genre 6 ---------\n",
      "I came into your life, just like a passing breeze\n",
      "No intentions to disrupt, no intentions to please\n",
      "I've been lost in my thoughts, creating movies in my mind\n",
      "But now we say, don't let go, let's leave the past behind\n",
      "\n",
      "I try to find my pride, but it's slipping away\n",
      "I can't recall the way I used to feel about you, I must say\n",
      "So leave as swiftly as you came, no need for an invite\n",
      "Nowhere to\n",
      "---------Genre 7 --------\n",
      "--------------Lyrics 1 in Genre 7 ---------\n",
      "that you feel the same way too\n",
      "Cause darling, you're the missing piece\n",
      "In this puzzle called my heart's release\n",
      "I've been searching for so long\n",
      "For a love that feels so strong\n",
      "\n",
      "But now you're here, right by my side\n",
      "And all the pain and loneliness subsides\n",
      "With every touch, every glance\n",
      "I feel like I'm given a second chance\n",
      "\n",
      "So let's dance under the moonlit sky\n",
      "Our love soaring, reaching new heights\n",
      "I'll cherish\n",
      "---------Genre 8 --------\n",
      "--------------Lyrics 1 in Genre 8 ---------\n",
      "It's mine, I want it, give it to me now\n",
      "Shake the party, Ricky, make 'em scream out loud\n",
      "Where's the Remy at? Let's keep it flowing\n",
      "Spinning like rims on Dayton's and Vogues, we're glowing\n",
      "\n",
      "And oh my, oh my, the indo's hitting hard\n",
      "Freeze like a frosty, with that cappuccino taste, so bizarre\n",
      "They call my product the cookies in the cake\n",
      "Damn baby,\n",
      "---------Genre 9 --------\n",
      "--------------Lyrics 1 in Genre 9 ---------\n",
      "o fall apart\n",
      "\n",
      "I forgot what my lover said\n",
      "I forgot what they said\n",
      "But the memories still linger\n",
      "As we shared our secret bed\n",
      "\n",
      "In a city painted with colors\n",
      "In a city drenched in tears\n",
      "\n",
      "I've got seven days to chase my dreams\n",
      "Or seven ways to drown in fears\n",
      "\n",
      "I forgot what my sister said\n",
      "I forgot what she said\n",
      "But I hold no regrets within\n",
      "Only the moments when we bled\n",
      "\n",
      "On a bridge of shattered souls\n",
      "I felt\n",
      "---------Genre 10 --------\n",
      "--------------Lyrics 1 in Genre 10 ---------\n",
      "Sometimes I stroll through the streets of old Chinatown\n",
      "Lost in the charm, as I wander around\n",
      "Where lanterns glow and shadows dance on the wall\n",
      "I'm lost in a dream, of my China doll\n",
      "\n",
      "In a silk cheongsam, she's a vision so rare\n",
      "With azure trousers and lips so fair\n",
      "Oh, my China doll, my heartache recalls\n",
      "I'll never forget you, my precious China doll\n",
      "\n",
      "Sometimes I linger, by the docks so grand\n",
      "Yearning\n"
     ]
    }
   ],
   "source": [
    "for i in range(len(synthetic_genre_lyrics_list)):\n",
    "    print(\"---------Genre\", i+1, \"--------\")\n",
    "    for j in range(len(synthetic_genre_lyrics_list[i])):\n",
    "        print(\"--------------Lyrics\", j+1, \"in\", \"Genre\", i+1, \"---------\")\n",
    "        print(synthetic_genre_lyrics_list[i][j])"
   ]
  }
 ],
 "metadata": {
  "kernelspec": {
   "display_name": "Python 3 (ipykernel)",
   "language": "python",
   "name": "python3"
  },
  "language_info": {
   "codemirror_mode": {
    "name": "ipython",
    "version": 3
   },
   "file_extension": ".py",
   "mimetype": "text/x-python",
   "name": "python",
   "nbconvert_exporter": "python",
   "pygments_lexer": "ipython3",
   "version": "3.11.4"
  }
 },
 "nbformat": 4,
 "nbformat_minor": 4
}
