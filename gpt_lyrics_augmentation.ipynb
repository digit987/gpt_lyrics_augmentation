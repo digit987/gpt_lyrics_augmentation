{
 "cells": [
  {
   "cell_type": "code",
   "execution_count": 142,
   "metadata": {},
   "outputs": [],
   "source": [
    "pd.options.display.max_colwidth = 1000"
   ]
  },
  {
   "cell_type": "code",
   "execution_count": 143,
   "metadata": {
    "_cell_guid": "b1076dfc-b9ad-4769-8c92-a6c4dae69d19",
    "_uuid": "8f2839f25d086af736a60e9eeb907d3b93b6e0e5",
    "execution": {
     "iopub.execute_input": "2023-09-26T03:40:14.673899Z",
     "iopub.status.busy": "2023-09-26T03:40:14.673485Z",
     "iopub.status.idle": "2023-09-26T03:40:14.685166Z",
     "shell.execute_reply": "2023-09-26T03:40:14.683630Z",
     "shell.execute_reply.started": "2023-09-26T03:40:14.673850Z"
    }
   },
   "outputs": [],
   "source": [
    "import numpy as np\n",
    "import pandas as pd\n",
    "import openai\n",
    "import os\n",
    "import string\n",
    "import re\n",
    "import random"
   ]
  },
  {
   "cell_type": "markdown",
   "metadata": {},
   "source": [
    "Dataset taken from Kaggle (https://www.kaggle.com/datasets/mateibejan/multilingual-lyrics-for-genre-classification)"
   ]
  },
  {
   "cell_type": "code",
   "execution_count": 169,
   "metadata": {
    "execution": {
     "iopub.execute_input": "2023-09-26T03:40:14.687961Z",
     "iopub.status.busy": "2023-09-26T03:40:14.687163Z",
     "iopub.status.idle": "2023-09-26T03:40:23.215241Z",
     "shell.execute_reply": "2023-09-26T03:40:23.213980Z",
     "shell.execute_reply.started": "2023-09-26T03:40:14.687925Z"
    }
   },
   "outputs": [],
   "source": [
    "df_train = pd.read_csv(\"dataset/train.csv\")"
   ]
  },
  {
   "cell_type": "code",
   "execution_count": 170,
   "metadata": {
    "execution": {
     "iopub.execute_input": "2023-09-26T03:40:14.687961Z",
     "iopub.status.busy": "2023-09-26T03:40:14.687163Z",
     "iopub.status.idle": "2023-09-26T03:40:23.215241Z",
     "shell.execute_reply": "2023-09-26T03:40:23.213980Z",
     "shell.execute_reply.started": "2023-09-26T03:40:14.687925Z"
    }
   },
   "outputs": [],
   "source": [
    "df_test = pd.read_csv(\"dataset/test.csv\")"
   ]
  },
  {
   "cell_type": "code",
   "execution_count": 171,
   "metadata": {
    "execution": {
     "iopub.execute_input": "2023-09-26T03:40:23.217108Z",
     "iopub.status.busy": "2023-09-26T03:40:23.216689Z",
     "iopub.status.idle": "2023-09-26T03:40:24.266506Z",
     "shell.execute_reply": "2023-09-26T03:40:24.265429Z",
     "shell.execute_reply.started": "2023-09-26T03:40:23.217078Z"
    }
   },
   "outputs": [
    {
     "data": {
      "text/html": [
       "<div>\n",
       "<style scoped>\n",
       "    .dataframe tbody tr th:only-of-type {\n",
       "        vertical-align: middle;\n",
       "    }\n",
       "\n",
       "    .dataframe tbody tr th {\n",
       "        vertical-align: top;\n",
       "    }\n",
       "\n",
       "    .dataframe thead th {\n",
       "        text-align: right;\n",
       "    }\n",
       "</style>\n",
       "<table border=\"1\" class=\"dataframe\">\n",
       "  <thead>\n",
       "    <tr style=\"text-align: right;\">\n",
       "      <th></th>\n",
       "      <th>Artist</th>\n",
       "      <th>Song</th>\n",
       "      <th>Genre</th>\n",
       "      <th>Language</th>\n",
       "      <th>Lyrics</th>\n",
       "    </tr>\n",
       "  </thead>\n",
       "  <tbody>\n",
       "    <tr>\n",
       "      <th>count</th>\n",
       "      <td>290183</td>\n",
       "      <td>290182</td>\n",
       "      <td>290183</td>\n",
       "      <td>290179</td>\n",
       "      <td>290148</td>\n",
       "    </tr>\n",
       "    <tr>\n",
       "      <th>unique</th>\n",
       "      <td>11152</td>\n",
       "      <td>164357</td>\n",
       "      <td>10</td>\n",
       "      <td>33</td>\n",
       "      <td>249297</td>\n",
       "    </tr>\n",
       "    <tr>\n",
       "      <th>top</th>\n",
       "      <td>elvis presley</td>\n",
       "      <td>intro</td>\n",
       "      <td>Rock</td>\n",
       "      <td>en</td>\n",
       "      <td>Instrumental</td>\n",
       "    </tr>\n",
       "    <tr>\n",
       "      <th>freq</th>\n",
       "      <td>1611</td>\n",
       "      <td>163</td>\n",
       "      <td>121404</td>\n",
       "      <td>250197</td>\n",
       "      <td>540</td>\n",
       "    </tr>\n",
       "  </tbody>\n",
       "</table>\n",
       "</div>"
      ],
      "text/plain": [
       "               Artist    Song   Genre Language        Lyrics\n",
       "count          290183  290182  290183   290179        290148\n",
       "unique          11152  164357      10       33        249297\n",
       "top     elvis presley   intro    Rock       en  Instrumental\n",
       "freq             1611     163  121404   250197           540"
      ]
     },
     "execution_count": 171,
     "metadata": {},
     "output_type": "execute_result"
    }
   ],
   "source": [
    "df_train.describe()"
   ]
  },
  {
   "cell_type": "code",
   "execution_count": 172,
   "metadata": {},
   "outputs": [],
   "source": [
    "df_train = df_train[df_train['Language']=='en']"
   ]
  },
  {
   "cell_type": "code",
   "execution_count": 173,
   "metadata": {
    "execution": {
     "iopub.execute_input": "2023-09-26T03:40:25.809529Z",
     "iopub.status.busy": "2023-09-26T03:40:25.809100Z",
     "iopub.status.idle": "2023-09-26T03:40:25.841134Z",
     "shell.execute_reply": "2023-09-26T03:40:25.840279Z",
     "shell.execute_reply.started": "2023-09-26T03:40:25.809489Z"
    }
   },
   "outputs": [
    {
     "data": {
      "text/plain": [
       "0"
      ]
     },
     "execution_count": 173,
     "metadata": {},
     "output_type": "execute_result"
    }
   ],
   "source": [
    "df_train['Genre'].isnull().sum().sum()"
   ]
  },
  {
   "cell_type": "code",
   "execution_count": 174,
   "metadata": {
    "execution": {
     "iopub.execute_input": "2023-09-26T03:40:25.843321Z",
     "iopub.status.busy": "2023-09-26T03:40:25.842520Z",
     "iopub.status.idle": "2023-09-26T03:40:25.893072Z",
     "shell.execute_reply": "2023-09-26T03:40:25.891721Z",
     "shell.execute_reply.started": "2023-09-26T03:40:25.843283Z"
    }
   },
   "outputs": [
    {
     "data": {
      "text/plain": [
       "0"
      ]
     },
     "execution_count": 174,
     "metadata": {},
     "output_type": "execute_result"
    }
   ],
   "source": [
    "df_train['Lyrics'].isnull().sum().sum()"
   ]
  },
  {
   "cell_type": "code",
   "execution_count": 175,
   "metadata": {},
   "outputs": [
    {
     "data": {
      "text/html": [
       "<div>\n",
       "<style scoped>\n",
       "    .dataframe tbody tr th:only-of-type {\n",
       "        vertical-align: middle;\n",
       "    }\n",
       "\n",
       "    .dataframe tbody tr th {\n",
       "        vertical-align: top;\n",
       "    }\n",
       "\n",
       "    .dataframe thead th {\n",
       "        text-align: right;\n",
       "    }\n",
       "</style>\n",
       "<table border=\"1\" class=\"dataframe\">\n",
       "  <thead>\n",
       "    <tr style=\"text-align: right;\">\n",
       "      <th></th>\n",
       "      <th>Artist</th>\n",
       "      <th>Song</th>\n",
       "      <th>Genre</th>\n",
       "      <th>Language</th>\n",
       "      <th>Lyrics</th>\n",
       "    </tr>\n",
       "  </thead>\n",
       "  <tbody>\n",
       "    <tr>\n",
       "      <th>count</th>\n",
       "      <td>250197</td>\n",
       "      <td>250196</td>\n",
       "      <td>250197</td>\n",
       "      <td>250197</td>\n",
       "      <td>250197</td>\n",
       "    </tr>\n",
       "    <tr>\n",
       "      <th>unique</th>\n",
       "      <td>10701</td>\n",
       "      <td>137660</td>\n",
       "      <td>10</td>\n",
       "      <td>1</td>\n",
       "      <td>218551</td>\n",
       "    </tr>\n",
       "    <tr>\n",
       "      <th>top</th>\n",
       "      <td>elvis presley</td>\n",
       "      <td>home</td>\n",
       "      <td>Rock</td>\n",
       "      <td>en</td>\n",
       "      <td>My heart is sad and lonely\\nFor you I sigh, for you dear only\\nWhy haven't you seen it\\nI'm all for you body and soul\\n\\nI spend my days in longing\\nAnd wondering why it's me you're wronging\\nI tell you I mean it\\nI'm all for you body and soul\\n\\nI can't believe it\\nIt's hard to conceive it\\nThat you'd turn away romance\\nAre you pretending\\nIt looks like the ending\\nUnless I could have just one more chance to prove, dear\\n\\nMy life a wreck you're making\\nYou know I'm yours for just the taking\\nI'd gladly surrender myself to you body and soul\\n\\nMy life a wreck you're making\\nYou know I'm yours for the very taking\\nI'd gladly surrender myself to you body and soul</td>\n",
       "    </tr>\n",
       "    <tr>\n",
       "      <th>freq</th>\n",
       "      <td>1598</td>\n",
       "      <td>148</td>\n",
       "      <td>107145</td>\n",
       "      <td>250197</td>\n",
       "      <td>89</td>\n",
       "    </tr>\n",
       "  </tbody>\n",
       "</table>\n",
       "</div>"
      ],
      "text/plain": [
       "               Artist    Song   Genre Language  \\\n",
       "count          250197  250196  250197   250197   \n",
       "unique          10701  137660      10        1   \n",
       "top     elvis presley    home    Rock       en   \n",
       "freq             1598     148  107145   250197   \n",
       "\n",
       "                                                                                                                                                                                                                                                                                                                                                                                                                                                                                                                                                                                                                                                                                                Lyrics  \n",
       "count                                                                                                                                                                                                                                                                                                                                                                                                                                                                                                                                                                                                                                                                                           250197  \n",
       "unique                                                                                                                                                                                                                                                                                                                                                                                                                                                                                                                                                                                                                                                                                          218551  \n",
       "top     My heart is sad and lonely\\nFor you I sigh, for you dear only\\nWhy haven't you seen it\\nI'm all for you body and soul\\n\\nI spend my days in longing\\nAnd wondering why it's me you're wronging\\nI tell you I mean it\\nI'm all for you body and soul\\n\\nI can't believe it\\nIt's hard to conceive it\\nThat you'd turn away romance\\nAre you pretending\\nIt looks like the ending\\nUnless I could have just one more chance to prove, dear\\n\\nMy life a wreck you're making\\nYou know I'm yours for just the taking\\nI'd gladly surrender myself to you body and soul\\n\\nMy life a wreck you're making\\nYou know I'm yours for the very taking\\nI'd gladly surrender myself to you body and soul  \n",
       "freq                                                                                                                                                                                                                                                                                                                                                                                                                                                                                                                                                                                                                                                                                                89  "
      ]
     },
     "execution_count": 175,
     "metadata": {},
     "output_type": "execute_result"
    }
   ],
   "source": [
    "df_train.describe()"
   ]
  },
  {
   "cell_type": "code",
   "execution_count": 176,
   "metadata": {
    "execution": {
     "iopub.execute_input": "2023-09-26T03:40:25.843321Z",
     "iopub.status.busy": "2023-09-26T03:40:25.842520Z",
     "iopub.status.idle": "2023-09-26T03:40:25.893072Z",
     "shell.execute_reply": "2023-09-26T03:40:25.891721Z",
     "shell.execute_reply.started": "2023-09-26T03:40:25.843283Z"
    }
   },
   "outputs": [
    {
     "data": {
      "text/plain": [
       "0"
      ]
     },
     "execution_count": 176,
     "metadata": {},
     "output_type": "execute_result"
    }
   ],
   "source": [
    "df_train['Lyrics'].isnull().sum().sum()"
   ]
  },
  {
   "cell_type": "markdown",
   "metadata": {},
   "source": [
    "Number of samples of each genre to be considered are as follows:"
   ]
  },
  {
   "cell_type": "code",
   "execution_count": 177,
   "metadata": {},
   "outputs": [
    {
     "data": {
      "text/plain": [
       "array(['Rock', 'Metal', 'Pop', 'Indie', 'Folk', 'Electronic', 'R&B',\n",
       "       'Jazz', 'Hip-Hop', 'Country'], dtype=object)"
      ]
     },
     "execution_count": 177,
     "metadata": {},
     "output_type": "execute_result"
    }
   ],
   "source": [
    "df_train['Genre'].unique()"
   ]
  },
  {
   "cell_type": "code",
   "execution_count": 178,
   "metadata": {},
   "outputs": [],
   "source": [
    "genre_list = ['Rock', 'Pop', 'Metal', 'Jazz', 'Folk', 'Indie', 'R&B', 'Hip-Hop', 'Electronic', 'Country']"
   ]
  },
  {
   "cell_type": "markdown",
   "metadata": {},
   "source": [
    "Taking samples for different genres"
   ]
  },
  {
   "cell_type": "code",
   "execution_count": 179,
   "metadata": {},
   "outputs": [],
   "source": [
    "rock_lyrics_train_sample_size = 3300\n",
    "pop_lyrics_train_sample_size = 3100\n",
    "metal_lyrics_train_sample_size = 2900\n",
    "jazz_lyrics_train_sample_size = 2700\n",
    "folk_lyrics_train_sample_size = 2500\n",
    "indie_lyrics_train_sample_size = 2300\n",
    "rnb_lyrics_train_sample_size = 2100\n",
    "hip_hop_lyrics_train_sample_size = 1900\n",
    "electronic_lyrics_train_sample_size = 1700\n",
    "country_lyrics_train_sample_size = 1500"
   ]
  },
  {
   "cell_type": "code",
   "execution_count": 180,
   "metadata": {},
   "outputs": [],
   "source": [
    "rock_lyrics_test_sample_size = 550\n",
    "pop_lyrics_test_sample_size = 500\n",
    "metal_lyrics_test_sample_size = 450\n",
    "jazz_lyrics_test_sample_size = 400\n",
    "folk_lyrics_test_sample_size = 350\n",
    "indie_lyrics_test_sample_size = 300\n",
    "rnb_lyrics_test_sample_size = 250\n",
    "hip_hop_lyrics_test_sample_size = 200\n",
    "electronic_lyrics_test_sample_size = 150\n",
    "country_lyrics_test_sample_size = 100"
   ]
  },
  {
   "cell_type": "code",
   "execution_count": 181,
   "metadata": {},
   "outputs": [],
   "source": [
    "genre_lyrics_train_sample_size_list = [rock_lyrics_train_sample_size, pop_lyrics_train_sample_size, metal_lyrics_train_sample_size,\n",
    "                                jazz_lyrics_train_sample_size, folk_lyrics_train_sample_size, indie_lyrics_train_sample_size,\n",
    "                                rnb_lyrics_train_sample_size, hip_hop_lyrics_train_sample_size, electronic_lyrics_train_sample_size,\n",
    "                                country_lyrics_train_sample_size]"
   ]
  },
  {
   "cell_type": "code",
   "execution_count": 182,
   "metadata": {},
   "outputs": [],
   "source": [
    "genre_samples_df_train_list = []"
   ]
  },
  {
   "cell_type": "code",
   "execution_count": 183,
   "metadata": {
    "execution": {
     "iopub.execute_input": "2023-09-26T03:41:16.713941Z",
     "iopub.status.busy": "2023-09-26T03:41:16.713527Z",
     "iopub.status.idle": "2023-09-26T03:41:17.160498Z",
     "shell.execute_reply": "2023-09-26T03:41:17.159302Z",
     "shell.execute_reply.started": "2023-09-26T03:41:16.713904Z"
    }
   },
   "outputs": [],
   "source": [
    "for i in range(len(genre_list)):\n",
    "    genre_samples_df_train_list.append(df_train[df_train['Genre']==genre_list[i]].sample(n=genre_lyrics_train_sample_size_list[i]))"
   ]
  },
  {
   "cell_type": "code",
   "execution_count": 184,
   "metadata": {},
   "outputs": [
    {
     "data": {
      "text/plain": [
       "10"
      ]
     },
     "execution_count": 184,
     "metadata": {},
     "output_type": "execute_result"
    }
   ],
   "source": [
    "len(genre_samples_df_train_list)"
   ]
  },
  {
   "cell_type": "code",
   "execution_count": 185,
   "metadata": {},
   "outputs": [
    {
     "data": {
      "text/html": [
       "<div>\n",
       "<style scoped>\n",
       "    .dataframe tbody tr th:only-of-type {\n",
       "        vertical-align: middle;\n",
       "    }\n",
       "\n",
       "    .dataframe tbody tr th {\n",
       "        vertical-align: top;\n",
       "    }\n",
       "\n",
       "    .dataframe thead th {\n",
       "        text-align: right;\n",
       "    }\n",
       "</style>\n",
       "<table border=\"1\" class=\"dataframe\">\n",
       "  <thead>\n",
       "    <tr style=\"text-align: right;\">\n",
       "      <th></th>\n",
       "      <th>Artist</th>\n",
       "      <th>Song</th>\n",
       "      <th>Genre</th>\n",
       "      <th>Language</th>\n",
       "      <th>Lyrics</th>\n",
       "    </tr>\n",
       "  </thead>\n",
       "  <tbody>\n",
       "    <tr>\n",
       "      <th>58082</th>\n",
       "      <td>beach boys</td>\n",
       "      <td>i just got my pay</td>\n",
       "      <td>Rock</td>\n",
       "      <td>en</td>\n",
       "      <td>Five long days and I'm tired of working\\nI'm going to see my boss today\\nIn fifteen minutes I'll be on the train\\n'Cause I just got my pay\\nNow I could take and sock away my dough\\nAnd make me six percent a year\\nBut it's not much fun to wait around for that\\nWhen I can spend it while it's here\\nAh\\nLet's get dressed up\\nAnd see a movie\\nI like spending my money\\nAnd I like having a good time\\nGood times sure make me happy\\nAnd I'm so happy\\n'Cause I just got my pay\\nMonday morning I'm up and at it\\nThose last two days were good for my soul\\nIt's time to do my working thing\\nI'm late so I got to roll\\nMy take home comes to 'bout ninety-five\\nAnd my boss is giving me some praise\\nIf it weren't for me the place would fall apart\\nI think I'll hit him up for a raise\\n(Hit 'im up get a rais)\\nAh\\nLet's get undressed\\nAnd climb in bed too\\nI like spending my money\\nAnd I like having a good time\\nGood times sure make me happy\\nAnd I'm so happy\\n'Cause I just got my pay\\nDada dada da\\nDada...</td>\n",
       "    </tr>\n",
       "    <tr>\n",
       "      <th>210395</th>\n",
       "      <td>survivor</td>\n",
       "      <td>it doesn't have to be this way</td>\n",
       "      <td>Rock</td>\n",
       "      <td>en</td>\n",
       "      <td>Sometimes alone at night I lie and wonder \\nWas breaking up the only thing to do \\nWe live our separate lives like perfect strangers \\nBut in the end, we're really perfect fools \\nMaybe in time we'll shake the memories \\nMaybe in time forget the pain \\nBut baby tonight, this heart remembers \\nIt doesn't have to be this way \\nWe don't need to live the lie anymore \\nI want you back, I'm holding on \\nIt doesn't have to be this way \\nHere we stand, love's an open door \\nIt doesn't have to be this way \\nWith breakin' up there comes this empty feelin' \\nThe child within you, lost without a prayer \\nSo you run a little wild searching for some meaning \\nDeep into the streets of your despair \\nWhat does it take to shake your memory \\nWhat in the world could ease the pain \\nHow can I make your heart surrender \\nIt doesn't have to be this way \\nWe don't need to live the lie anymore \\nI want you back, I'm holding on \\nIt doesn't have to be this way \\nHere we stand, love's an open door \\nIt doe...</td>\n",
       "    </tr>\n",
       "    <tr>\n",
       "      <th>51516</th>\n",
       "      <td>scorpions</td>\n",
       "      <td>love of my life (cover)</td>\n",
       "      <td>Rock</td>\n",
       "      <td>en</td>\n",
       "      <td>Love of my life\\nYou've hurt me\\nYou've broken my heart\\nAnd now you leave me\\nLove of my life\\nCan't you see\\nBring it back, bring it back\\nDon't take it away from me\\nBecause you don't know\\nWhat it means to me\\nLove of my life\\nDon't leave me\\nYou've taken my heart\\nYou now desert me\\nLove of my life\\nCan't you see\\nBring it back, bring it back\\nDon't take it away from me\\nBecause you don't know\\nWhat it means to me\\nYou won't remember\\nWhen this is blown over\\nAnd everything's all by the way\\nWhen I get older\\nI will be there\\nAt your side to remind you\\nHow I still love you, I still love you\\nBack, bring it back\\nDon't take it away from me\\nBecause you don't know\\nWhat it means to me\\nLove of my life\\nLove of my life</td>\n",
       "    </tr>\n",
       "    <tr>\n",
       "      <th>22379</th>\n",
       "      <td>george michael</td>\n",
       "      <td>one more try</td>\n",
       "      <td>Rock</td>\n",
       "      <td>en</td>\n",
       "      <td>I've had enough of danger\\nAnd people on the streets\\nI'm looking out for angels\\nJust trying to find some peace\\nNow I think it's time\\nThat you let me know\\nSo if you love me\\nSay you love me\\nBut if you don't\\nJust let me go\\nCause teacher\\nThere are things that I don't want to learn\\nAnd the last one I had\\nMade me cry\\nSo I don't want to learn to\\nHold you, touch you\\nThink that you're mine\\nBecause there ain't no joy\\nFor an uptown boy\\nWhose teacher has told him goodbye\\nGoodbye\\nGoodbye\\nWhen you were just a stranger\\nAnd I was at your feet\\nI didn't feel the danger\\nNow I feel the heat\\nThat look in your eyes\\nTelling me no\\nSo you think that you love me\\nKnow that you need me\\nI wrote the song, I know it's wrong\\nJust let me go\\nAnd teacher\\nThere are things\\nThat I don't want to learn\\nOh the last one I had\\nMade me cry\\nSo I don't want to learn to\\nHold you, touch you\\nThink that you're mine\\nBecause there ain't no joy\\nFor an uptown boy\\nWhose teacher has told him good...</td>\n",
       "    </tr>\n",
       "    <tr>\n",
       "      <th>40491</th>\n",
       "      <td>nirvana</td>\n",
       "      <td>pennyroyal tea</td>\n",
       "      <td>Rock</td>\n",
       "      <td>en</td>\n",
       "      <td>I'm on my time with everyone\\nI have very bad posture\\nI sit and drink Pennyroyal Tea\\nDistill the life that's inside of me\\nI sit and drink Pennyroyal Tea\\nI'm anemic royalty\\nGive me a Leonard Cohen afterworld\\nSo I can sigh eternally\\nI'm so tired I can't sleep\\nI'm a liar and a thief\\nI sit and drink Pennyroyal Tea\\nI'm anemic royalty\\nI'm on warm milk and laxatives\\nCherry flavored antacids\\nI sit and drink Pennyroyal Tea\\nDistill the life that's inside of me\\nI sit and drink Pennyroyal Tea\\nI'm anemic royalty</td>\n",
       "    </tr>\n",
       "    <tr>\n",
       "      <th>...</th>\n",
       "      <td>...</td>\n",
       "      <td>...</td>\n",
       "      <td>...</td>\n",
       "      <td>...</td>\n",
       "      <td>...</td>\n",
       "    </tr>\n",
       "    <tr>\n",
       "      <th>211671</th>\n",
       "      <td>bombay bicycle club</td>\n",
       "      <td>my god</td>\n",
       "      <td>Rock</td>\n",
       "      <td>en</td>\n",
       "      <td>All the highs are downwards\\nAll your fumble words are spent\\nPaying no attention\\nTo the thoughts of your dear friend\\n\\nNo point louder\\nThe sound of my power\\nSink in deeper\\nFurther each hour\\nMy God\\n\\nWhen our flower's fading\\nWhen our stem begins to fold\\nI will take off quietly\\nLike a bird that flees the cold\\n\\nNo point louder\\nThe sound of my power\\nSink in deeper\\nFurther each hour\\nMy God \\nMy God \\nMy God \\nMy God \\nMy God \\nMy God \\nMy God</td>\n",
       "    </tr>\n",
       "    <tr>\n",
       "      <th>179444</th>\n",
       "      <td>galaxie 500</td>\n",
       "      <td>temperature's rising</td>\n",
       "      <td>Rock</td>\n",
       "      <td>en</td>\n",
       "      <td>My temperature's rising, my fingers are tingling\\nThey're starting to shake\\nI look in the mirror and everything's funny\\nI think you're a fake\\nAnd why did I do it, how could I say that\\nI wanna come down?\\nEverything's swirling and I just forgot\\nWhy I came to this town\\n\\nSo now I think I'm all tied up\\nSo now I think I'm tangled up\\nI know and I can't see no more\\nI know and I can't see no more\\n\\nMy temperature's rising, my fingers are tingling\\nThey're starting to shake\\nI look in the mirror and everything's funny\\nI think I'm a fake\\nAnd why did I do it, how could I say that\\nI wanna come down?\\nEverything's swirling and I just forgot\\nWhy I came to this town</td>\n",
       "    </tr>\n",
       "    <tr>\n",
       "      <th>22797</th>\n",
       "      <td>goo goo dolls</td>\n",
       "      <td>slide</td>\n",
       "      <td>Rock</td>\n",
       "      <td>en</td>\n",
       "      <td>Could you whisper in my ear\\nThe things you wanna feel\\nI'd give ya anythin'\\nTo feel it comin'\\nDo you wake up on your own?\\nAnd wonder where you are\\nYou live with all your faults\\nI wanna wake up where you are\\nI won't say anything at all\\nSo why don't you slide\\nYeah I'm gonna let it slide\\nDon't you love the life you killed\\nThe priest is on the phone\\nYour father hit the wall\\nYour ma disowned you\\nDon't suppose I'll ever know\\nWhat it means to be a man\\nSomethin' I can't change\\nI'll live around it\\nI wanna wake up where you are\\nI won't say anything at all\\nSo why don't you slide\\nMmm mmm slide\\nAnd I'll do anythin' you ever dreamed to be complete\\nLittle pieces of the nothin' that fall\\nOh May\\nPut your arms around me\\nWhat you feel is what you are\\nAnd what you are is beautiful\\nOh May\\nDo you wanna get married, or run away?\\nAnd I'll do anythin' you ever dreamed to be complete\\nLittle pieces of the nothin' that fall\\nOh May\\nPut your arms around me\\nWhat you feel is what...</td>\n",
       "    </tr>\n",
       "    <tr>\n",
       "      <th>28635</th>\n",
       "      <td>kaiser chiefs</td>\n",
       "      <td>boxing champ</td>\n",
       "      <td>Rock</td>\n",
       "      <td>en</td>\n",
       "      <td>We went to the youth club and we looked out of place.\\nI didn't know where to look\\nSo I, looked at your face.\\nBut you were a boxing champ, and I was a weakling.\\nYou didn't give me a chance,\\nYou gave me a beating.\\nAnd I thank you very much that you did.\\nAnd as the time went by we stayed out of trouble,\\nBefore I could realise my age had doubled.\\nThe man I became is a tragic bore,\\nAnd he's not a boxing champ anymore.\\nIf there's one thing i've learnt it's to run away,\\nAt least I enjoy what I do today.\\nAnd I thank you very much that I do.</td>\n",
       "    </tr>\n",
       "    <tr>\n",
       "      <th>179442</th>\n",
       "      <td>galaxie 500</td>\n",
       "      <td>parking lot</td>\n",
       "      <td>Rock</td>\n",
       "      <td>en</td>\n",
       "      <td>Sitting on a subway train and\\nWatching all the people lose their senses\\n\\nHiding in a parking lot and\\nWatching all the people fall to pieces\\n\\nI don't mind\\nI think it's fine</td>\n",
       "    </tr>\n",
       "  </tbody>\n",
       "</table>\n",
       "<p>3300 rows × 5 columns</p>\n",
       "</div>"
      ],
      "text/plain": [
       "                     Artist                            Song Genre Language  \\\n",
       "58082            beach boys               i just got my pay  Rock       en   \n",
       "210395             survivor  it doesn't have to be this way  Rock       en   \n",
       "51516             scorpions         love of my life (cover)  Rock       en   \n",
       "22379        george michael                    one more try  Rock       en   \n",
       "40491               nirvana                  pennyroyal tea  Rock       en   \n",
       "...                     ...                             ...   ...      ...   \n",
       "211671  bombay bicycle club                          my god  Rock       en   \n",
       "179444          galaxie 500            temperature's rising  Rock       en   \n",
       "22797         goo goo dolls                           slide  Rock       en   \n",
       "28635         kaiser chiefs                    boxing champ  Rock       en   \n",
       "179442          galaxie 500                     parking lot  Rock       en   \n",
       "\n",
       "                                                                                                                                                                                                                                                                                                                                                                                                                                                                                                                                                                                                                                                                                                                                                                                                                                                                                                                                                                                                                                         Lyrics  \n",
       "58082   Five long days and I'm tired of working\\nI'm going to see my boss today\\nIn fifteen minutes I'll be on the train\\n'Cause I just got my pay\\nNow I could take and sock away my dough\\nAnd make me six percent a year\\nBut it's not much fun to wait around for that\\nWhen I can spend it while it's here\\nAh\\nLet's get dressed up\\nAnd see a movie\\nI like spending my money\\nAnd I like having a good time\\nGood times sure make me happy\\nAnd I'm so happy\\n'Cause I just got my pay\\nMonday morning I'm up and at it\\nThose last two days were good for my soul\\nIt's time to do my working thing\\nI'm late so I got to roll\\nMy take home comes to 'bout ninety-five\\nAnd my boss is giving me some praise\\nIf it weren't for me the place would fall apart\\nI think I'll hit him up for a raise\\n(Hit 'im up get a rais)\\nAh\\nLet's get undressed\\nAnd climb in bed too\\nI like spending my money\\nAnd I like having a good time\\nGood times sure make me happy\\nAnd I'm so happy\\n'Cause I just got my pay\\nDada dada da\\nDada...  \n",
       "210395  Sometimes alone at night I lie and wonder \\nWas breaking up the only thing to do \\nWe live our separate lives like perfect strangers \\nBut in the end, we're really perfect fools \\nMaybe in time we'll shake the memories \\nMaybe in time forget the pain \\nBut baby tonight, this heart remembers \\nIt doesn't have to be this way \\nWe don't need to live the lie anymore \\nI want you back, I'm holding on \\nIt doesn't have to be this way \\nHere we stand, love's an open door \\nIt doesn't have to be this way \\nWith breakin' up there comes this empty feelin' \\nThe child within you, lost without a prayer \\nSo you run a little wild searching for some meaning \\nDeep into the streets of your despair \\nWhat does it take to shake your memory \\nWhat in the world could ease the pain \\nHow can I make your heart surrender \\nIt doesn't have to be this way \\nWe don't need to live the lie anymore \\nI want you back, I'm holding on \\nIt doesn't have to be this way \\nHere we stand, love's an open door \\nIt doe...  \n",
       "51516                                                                                                                                                                                                                                                                               Love of my life\\nYou've hurt me\\nYou've broken my heart\\nAnd now you leave me\\nLove of my life\\nCan't you see\\nBring it back, bring it back\\nDon't take it away from me\\nBecause you don't know\\nWhat it means to me\\nLove of my life\\nDon't leave me\\nYou've taken my heart\\nYou now desert me\\nLove of my life\\nCan't you see\\nBring it back, bring it back\\nDon't take it away from me\\nBecause you don't know\\nWhat it means to me\\nYou won't remember\\nWhen this is blown over\\nAnd everything's all by the way\\nWhen I get older\\nI will be there\\nAt your side to remind you\\nHow I still love you, I still love you\\nBack, bring it back\\nDon't take it away from me\\nBecause you don't know\\nWhat it means to me\\nLove of my life\\nLove of my life  \n",
       "22379   I've had enough of danger\\nAnd people on the streets\\nI'm looking out for angels\\nJust trying to find some peace\\nNow I think it's time\\nThat you let me know\\nSo if you love me\\nSay you love me\\nBut if you don't\\nJust let me go\\nCause teacher\\nThere are things that I don't want to learn\\nAnd the last one I had\\nMade me cry\\nSo I don't want to learn to\\nHold you, touch you\\nThink that you're mine\\nBecause there ain't no joy\\nFor an uptown boy\\nWhose teacher has told him goodbye\\nGoodbye\\nGoodbye\\nWhen you were just a stranger\\nAnd I was at your feet\\nI didn't feel the danger\\nNow I feel the heat\\nThat look in your eyes\\nTelling me no\\nSo you think that you love me\\nKnow that you need me\\nI wrote the song, I know it's wrong\\nJust let me go\\nAnd teacher\\nThere are things\\nThat I don't want to learn\\nOh the last one I had\\nMade me cry\\nSo I don't want to learn to\\nHold you, touch you\\nThink that you're mine\\nBecause there ain't no joy\\nFor an uptown boy\\nWhose teacher has told him good...  \n",
       "40491                                                                                                                                                                                                                                                                                                                                                                                                                                                                                                  I'm on my time with everyone\\nI have very bad posture\\nI sit and drink Pennyroyal Tea\\nDistill the life that's inside of me\\nI sit and drink Pennyroyal Tea\\nI'm anemic royalty\\nGive me a Leonard Cohen afterworld\\nSo I can sigh eternally\\nI'm so tired I can't sleep\\nI'm a liar and a thief\\nI sit and drink Pennyroyal Tea\\nI'm anemic royalty\\nI'm on warm milk and laxatives\\nCherry flavored antacids\\nI sit and drink Pennyroyal Tea\\nDistill the life that's inside of me\\nI sit and drink Pennyroyal Tea\\nI'm anemic royalty  \n",
       "...                                                                                                                                                                                                                                                                                                                                                                                                                                                                                                                                                                                                                                                                                                                                                                                                                                                                                                                                                                                                                                         ...  \n",
       "211671                                                                                                                                                                                                                                                                                                                                                                                                                                                                                                                                                               All the highs are downwards\\nAll your fumble words are spent\\nPaying no attention\\nTo the thoughts of your dear friend\\n\\nNo point louder\\nThe sound of my power\\nSink in deeper\\nFurther each hour\\nMy God\\n\\nWhen our flower's fading\\nWhen our stem begins to fold\\nI will take off quietly\\nLike a bird that flees the cold\\n\\nNo point louder\\nThe sound of my power\\nSink in deeper\\nFurther each hour\\nMy God \\nMy God \\nMy God \\nMy God \\nMy God \\nMy God \\nMy God  \n",
       "179444                                                                                                                                                                                                                                                                                                                                       My temperature's rising, my fingers are tingling\\nThey're starting to shake\\nI look in the mirror and everything's funny\\nI think you're a fake\\nAnd why did I do it, how could I say that\\nI wanna come down?\\nEverything's swirling and I just forgot\\nWhy I came to this town\\n\\nSo now I think I'm all tied up\\nSo now I think I'm tangled up\\nI know and I can't see no more\\nI know and I can't see no more\\n\\nMy temperature's rising, my fingers are tingling\\nThey're starting to shake\\nI look in the mirror and everything's funny\\nI think I'm a fake\\nAnd why did I do it, how could I say that\\nI wanna come down?\\nEverything's swirling and I just forgot\\nWhy I came to this town  \n",
       "22797   Could you whisper in my ear\\nThe things you wanna feel\\nI'd give ya anythin'\\nTo feel it comin'\\nDo you wake up on your own?\\nAnd wonder where you are\\nYou live with all your faults\\nI wanna wake up where you are\\nI won't say anything at all\\nSo why don't you slide\\nYeah I'm gonna let it slide\\nDon't you love the life you killed\\nThe priest is on the phone\\nYour father hit the wall\\nYour ma disowned you\\nDon't suppose I'll ever know\\nWhat it means to be a man\\nSomethin' I can't change\\nI'll live around it\\nI wanna wake up where you are\\nI won't say anything at all\\nSo why don't you slide\\nMmm mmm slide\\nAnd I'll do anythin' you ever dreamed to be complete\\nLittle pieces of the nothin' that fall\\nOh May\\nPut your arms around me\\nWhat you feel is what you are\\nAnd what you are is beautiful\\nOh May\\nDo you wanna get married, or run away?\\nAnd I'll do anythin' you ever dreamed to be complete\\nLittle pieces of the nothin' that fall\\nOh May\\nPut your arms around me\\nWhat you feel is what...  \n",
       "28635                                                                                                                                                                                                                                                                                                                                                                                                                                                                   We went to the youth club and we looked out of place.\\nI didn't know where to look\\nSo I, looked at your face.\\nBut you were a boxing champ, and I was a weakling.\\nYou didn't give me a chance,\\nYou gave me a beating.\\nAnd I thank you very much that you did.\\nAnd as the time went by we stayed out of trouble,\\nBefore I could realise my age had doubled.\\nThe man I became is a tragic bore,\\nAnd he's not a boxing champ anymore.\\nIf there's one thing i've learnt it's to run away,\\nAt least I enjoy what I do today.\\nAnd I thank you very much that I do.  \n",
       "179442                                                                                                                                                                                                                                                                                                                                                                                                                                                                                                                                                                                                                                                                                                                                                                                                                                                       Sitting on a subway train and\\nWatching all the people lose their senses\\n\\nHiding in a parking lot and\\nWatching all the people fall to pieces\\n\\nI don't mind\\nI think it's fine  \n",
       "\n",
       "[3300 rows x 5 columns]"
      ]
     },
     "execution_count": 185,
     "metadata": {},
     "output_type": "execute_result"
    }
   ],
   "source": [
    "genre_samples_df_train_list[0]"
   ]
  },
  {
   "cell_type": "markdown",
   "metadata": {},
   "source": [
    "Limiting a Lyrics to length of 512"
   ]
  },
  {
   "cell_type": "code",
   "execution_count": 186,
   "metadata": {},
   "outputs": [],
   "source": [
    "lyrics_length = 512"
   ]
  },
  {
   "cell_type": "markdown",
   "metadata": {},
   "source": [
    "Preprocessing Lyrics by removing punctuations, email address and digits"
   ]
  },
  {
   "cell_type": "code",
   "execution_count": 247,
   "metadata": {},
   "outputs": [],
   "source": [
    "all_lyrics_in_all_sampled_genre = []\n",
    "all_lyrics_in_all_sampled_genre_length = []\n",
    "for i in genre_samples_df_train_list:\n",
    "    total_lyrics_in_sampled_genre = len(i['Lyrics'])\n",
    "    all_lyrics_in_sampled_genre = []\n",
    "    all_lyrics_in_sampled_genre_length = []\n",
    "    for lyrics_counter in range(total_lyrics_in_sampled_genre):\n",
    "        lyrics = i['Lyrics'].iloc[[lyrics_counter]].values[0]\n",
    "        #Removing punctuation\n",
    "        lyrics = lyrics.translate(str.maketrans('', '', string.punctuation))\n",
    "        #Removing email\n",
    "        lyrics = re.sub(\"\\S*@\\S*\\s?\", \"\", lyrics)\n",
    "        #Removing digits\n",
    "        lyrics = re.sub(\"\\d+\", \"\", lyrics)\n",
    "        #Trimming lyrics to length 512\n",
    "        if len(lyrics) >= lyrics_length:\n",
    "            lyrics = lyrics[0:lyrics_length]\n",
    "        else:\n",
    "            lyrics = lyrics.ljust(512, ' ')\n",
    "        all_lyrics_in_sampled_genre.append(lyrics)\n",
    "        all_lyrics_in_sampled_genre_length.append(len(lyrics))\n",
    "    all_lyrics_in_all_sampled_genre.append(all_lyrics_in_sampled_genre)\n",
    "    all_lyrics_in_all_sampled_genre_length.append(all_lyrics_in_sampled_genre_length)"
   ]
  },
  {
   "cell_type": "code",
   "execution_count": 188,
   "metadata": {},
   "outputs": [],
   "source": [
    "for i in range(len(all_lyrics_in_all_sampled_genre)):\n",
    "    genre_samples_df_train_list[i]['Lyrics'] = all_lyrics_in_all_sampled_genre[i]\n",
    "    genre_samples_df_train_list[i] = genre_samples_df_train_list[i].drop_duplicates(subset = \"Lyrics\")"
   ]
  },
  {
   "cell_type": "code",
   "execution_count": 189,
   "metadata": {
    "execution": {
     "iopub.execute_input": "2023-09-26T03:41:17.162460Z",
     "iopub.status.busy": "2023-09-26T03:41:17.162116Z",
     "iopub.status.idle": "2023-09-26T03:41:17.181333Z",
     "shell.execute_reply": "2023-09-26T03:41:17.179695Z",
     "shell.execute_reply.started": "2023-09-26T03:41:17.162430Z"
    }
   },
   "outputs": [],
   "source": [
    "df_train = pd.concat(genre_samples_df_train_list, ignore_index=True)"
   ]
  },
  {
   "cell_type": "code",
   "execution_count": 190,
   "metadata": {
    "execution": {
     "iopub.execute_input": "2023-09-26T03:41:17.182969Z",
     "iopub.status.busy": "2023-09-26T03:41:17.182628Z",
     "iopub.status.idle": "2023-09-26T03:41:17.209225Z",
     "shell.execute_reply": "2023-09-26T03:41:17.208073Z",
     "shell.execute_reply.started": "2023-09-26T03:41:17.182939Z"
    }
   },
   "outputs": [],
   "source": [
    "df_train = df_train.sample(frac=1).reset_index(drop=True)"
   ]
  },
  {
   "cell_type": "code",
   "execution_count": 191,
   "metadata": {
    "execution": {
     "iopub.execute_input": "2023-09-26T03:41:29.054943Z",
     "iopub.status.busy": "2023-09-26T03:41:29.054456Z",
     "iopub.status.idle": "2023-09-26T03:41:29.151625Z",
     "shell.execute_reply": "2023-09-26T03:41:29.150260Z",
     "shell.execute_reply.started": "2023-09-26T03:41:29.054907Z"
    }
   },
   "outputs": [
    {
     "data": {
      "text/html": [
       "<div>\n",
       "<style scoped>\n",
       "    .dataframe tbody tr th:only-of-type {\n",
       "        vertical-align: middle;\n",
       "    }\n",
       "\n",
       "    .dataframe tbody tr th {\n",
       "        vertical-align: top;\n",
       "    }\n",
       "\n",
       "    .dataframe thead th {\n",
       "        text-align: right;\n",
       "    }\n",
       "</style>\n",
       "<table border=\"1\" class=\"dataframe\">\n",
       "  <thead>\n",
       "    <tr style=\"text-align: right;\">\n",
       "      <th></th>\n",
       "      <th>Artist</th>\n",
       "      <th>Song</th>\n",
       "      <th>Genre</th>\n",
       "      <th>Language</th>\n",
       "      <th>Lyrics</th>\n",
       "    </tr>\n",
       "  </thead>\n",
       "  <tbody>\n",
       "    <tr>\n",
       "      <th>count</th>\n",
       "      <td>23174</td>\n",
       "      <td>23174</td>\n",
       "      <td>23174</td>\n",
       "      <td>23174</td>\n",
       "      <td>23174</td>\n",
       "    </tr>\n",
       "    <tr>\n",
       "      <th>unique</th>\n",
       "      <td>5008</td>\n",
       "      <td>20185</td>\n",
       "      <td>10</td>\n",
       "      <td>1</td>\n",
       "      <td>23042</td>\n",
       "    </tr>\n",
       "    <tr>\n",
       "      <th>top</th>\n",
       "      <td>ella fitzgerald</td>\n",
       "      <td>home</td>\n",
       "      <td>Rock</td>\n",
       "      <td>en</td>\n",
       "      <td>I am not the only traveler\\nWho has not repaid his debt\\nIve been searching for a trail to follow again\\nTake me back to the night we met\\n\\nAnd then I can tell myself\\nWhat the hell Im supposed to do\\nAnd then I can tell myself\\nNot to ride along with you\\n\\nI had all and then most of you\\nSome and now none of you\\nTake me back to the night we met\\nI dont know what Im supposed to do\\nHaunted by the ghost of you\\nOh take me back to the night we met\\n\\nWhen the night was full of terrors\\nAnd your eyes were filled with tears\\nW</td>\n",
       "    </tr>\n",
       "    <tr>\n",
       "      <th>freq</th>\n",
       "      <td>155</td>\n",
       "      <td>19</td>\n",
       "      <td>3290</td>\n",
       "      <td>23174</td>\n",
       "      <td>4</td>\n",
       "    </tr>\n",
       "  </tbody>\n",
       "</table>\n",
       "</div>"
      ],
      "text/plain": [
       "                 Artist   Song  Genre Language  \\\n",
       "count             23174  23174  23174    23174   \n",
       "unique             5008  20185     10        1   \n",
       "top     ella fitzgerald   home   Rock       en   \n",
       "freq                155     19   3290    23174   \n",
       "\n",
       "                                                                                                                                                                                                                                                                                                                                                                                                                                                                                                                                                     Lyrics  \n",
       "count                                                                                                                                                                                                                                                                                                                                                                                                                                                                                                                                                 23174  \n",
       "unique                                                                                                                                                                                                                                                                                                                                                                                                                                                                                                                                                23042  \n",
       "top     I am not the only traveler\\nWho has not repaid his debt\\nIve been searching for a trail to follow again\\nTake me back to the night we met\\n\\nAnd then I can tell myself\\nWhat the hell Im supposed to do\\nAnd then I can tell myself\\nNot to ride along with you\\n\\nI had all and then most of you\\nSome and now none of you\\nTake me back to the night we met\\nI dont know what Im supposed to do\\nHaunted by the ghost of you\\nOh take me back to the night we met\\n\\nWhen the night was full of terrors\\nAnd your eyes were filled with tears\\nW  \n",
       "freq                                                                                                                                                                                                                                                                                                                                                                                                                                                                                                                                                      4  "
      ]
     },
     "execution_count": 191,
     "metadata": {},
     "output_type": "execute_result"
    }
   ],
   "source": [
    "df_train.describe()"
   ]
  },
  {
   "cell_type": "code",
   "execution_count": 194,
   "metadata": {},
   "outputs": [
    {
     "data": {
      "text/plain": [
       "Rock          3290\n",
       "Pop           3077\n",
       "Metal         2864\n",
       "Folk          2470\n",
       "Indie         2233\n",
       "R&B           2088\n",
       "Jazz          2062\n",
       "Hip-Hop       1898\n",
       "Electronic    1693\n",
       "Country       1499\n",
       "Name: Genre, dtype: int64"
      ]
     },
     "execution_count": 194,
     "metadata": {},
     "output_type": "execute_result"
    }
   ],
   "source": [
    "df_train['Genre'].value_counts()"
   ]
  },
  {
   "cell_type": "code",
   "execution_count": 233,
   "metadata": {},
   "outputs": [
    {
     "name": "stdout",
     "output_type": "stream",
     "text": [
      "3290\n",
      "3077\n",
      "2864\n",
      "2062\n",
      "2470\n",
      "2233\n",
      "2088\n",
      "1898\n",
      "1693\n",
      "1499\n"
     ]
    }
   ],
   "source": [
    "for i in range(10):\n",
    "    print(len(df_train[df_train['Genre']==genre_list[i]]))"
   ]
  },
  {
   "cell_type": "code",
   "execution_count": 218,
   "metadata": {
    "execution": {
     "iopub.execute_input": "2023-09-28T04:38:45.505980Z",
     "iopub.status.busy": "2023-09-28T04:38:45.505540Z",
     "iopub.status.idle": "2023-09-28T04:39:33.178380Z",
     "shell.execute_reply": "2023-09-28T04:39:33.176326Z",
     "shell.execute_reply.started": "2023-09-28T04:38:45.505947Z"
    }
   },
   "outputs": [],
   "source": [
    "synthetic_rock_lyrics = []\n",
    "synthetic_pop_lyrics = []\n",
    "synthetic_metal_lyrics = []\n",
    "synthetic_jazz_lyrics = []\n",
    "synthetic_folk_lyrics = []\n",
    "synthetic_indie_lyrics = []\n",
    "synthetic_rnb_lyrics = []\n",
    "synthetic_hip_hop_lyrics = []\n",
    "synthetic_electronic_lyrics = []\n",
    "synthetic_country_lyrics = []"
   ]
  },
  {
   "cell_type": "code",
   "execution_count": 219,
   "metadata": {},
   "outputs": [],
   "source": [
    "synthetic_genre_lyrics_list = [synthetic_rock_lyrics, synthetic_pop_lyrics, synthetic_metal_lyrics, synthetic_jazz_lyrics,\n",
    "                              synthetic_folk_lyrics, synthetic_indie_lyrics, synthetic_rnb_lyrics, synthetic_hip_hop_lyrics,\n",
    "                              synthetic_electronic_lyrics, synthetic_country_lyrics]"
   ]
  },
  {
   "cell_type": "code",
   "execution_count": 220,
   "metadata": {},
   "outputs": [],
   "source": [
    "synthetic_rock_lyrics_size = rock_lyrics_train_sample_size - rock_lyrics_train_sample_size\n",
    "synthetic_pop_lyrics_size = rock_lyrics_train_sample_size - pop_lyrics_train_sample_size\n",
    "synthetic_metal_lyrics_size = rock_lyrics_train_sample_size - metal_lyrics_train_sample_size\n",
    "synthetic_jazz_lyrics_size = rock_lyrics_train_sample_size - jazz_lyrics_train_sample_size\n",
    "synthetic_folk_lyrics_size = rock_lyrics_train_sample_size - folk_lyrics_train_sample_size\n",
    "synthetic_indie_lyrics_size = rock_lyrics_train_sample_size - indie_lyrics_train_sample_size\n",
    "synthetic_rnb_lyrics_size = rock_lyrics_train_sample_size - rnb_lyrics_train_sample_size\n",
    "synthetic_hip_hop_lyrics_size = rock_lyrics_train_sample_size - hip_hop_lyrics_train_sample_size\n",
    "synthetic_electronic_lyrics_size = rock_lyrics_train_sample_size - electronic_lyrics_train_sample_size\n",
    "synthetic_country_lyrics_size = rock_lyrics_train_sample_size - country_lyrics_train_sample_size"
   ]
  },
  {
   "cell_type": "code",
   "execution_count": 221,
   "metadata": {},
   "outputs": [],
   "source": [
    "synthetic_genre_lyrics_size_list = [synthetic_rock_lyrics_size, synthetic_pop_lyrics_size, synthetic_metal_lyrics_size,\n",
    "                                   synthetic_jazz_lyrics_size, synthetic_folk_lyrics_size, synthetic_indie_lyrics_size,\n",
    "                                   synthetic_rnb_lyrics_size, synthetic_hip_hop_lyrics_size, synthetic_electronic_lyrics_size,\n",
    "                                   synthetic_country_lyrics_size]"
   ]
  },
  {
   "cell_type": "markdown",
   "metadata": {},
   "source": [
    "As Lyrics Length is 512, number of tokens to be generated is limited to 100, \n",
    "assuming each token is approximately of 5 characters."
   ]
  },
  {
   "cell_type": "code",
   "execution_count": 222,
   "metadata": {},
   "outputs": [],
   "source": [
    "def synthetic_lyrics_generator(random_genre_lyrics):\n",
    "    openai.api_key = \"\"\n",
    "\n",
    "    prompt = \"Generate a lyrics similar to this:\" + random_genre_lyrics\n",
    "\n",
    "    messages=[{\"role\": \"user\", \"content\": prompt}]\n",
    "\n",
    "    response = openai.ChatCompletion.create(\n",
    "      model=\"gpt-3.5-turbo\",\n",
    "      messages=messages,\n",
    "      temperature=0.5,\n",
    "      max_tokens=100,\n",
    "      top_p=1.0,\n",
    "      frequency_penalty=0.0,\n",
    "      presence_penalty=0.0\n",
    "    )\n",
    "\n",
    "    return response['choices'][0]['message']['content']"
   ]
  },
  {
   "cell_type": "code",
   "execution_count": 235,
   "metadata": {},
   "outputs": [
    {
     "ename": "Timeout",
     "evalue": "Request timed out: HTTPSConnectionPool(host='api.openai.com', port=443): Read timed out. (read timeout=600)",
     "output_type": "error",
     "traceback": [
      "\u001b[1;31m---------------------------------------------------------------------------\u001b[0m",
      "\u001b[1;31mTimeoutError\u001b[0m                              Traceback (most recent call last)",
      "File \u001b[1;32mC:\\ProgramData\\anaconda3\\Lib\\site-packages\\urllib3\\connectionpool.py:466\u001b[0m, in \u001b[0;36mHTTPConnectionPool._make_request\u001b[1;34m(self, conn, method, url, timeout, chunked, **httplib_request_kw)\u001b[0m\n\u001b[0;32m    462\u001b[0m         \u001b[38;5;28;01mexcept\u001b[39;00m \u001b[38;5;167;01mBaseException\u001b[39;00m \u001b[38;5;28;01mas\u001b[39;00m e:\n\u001b[0;32m    463\u001b[0m             \u001b[38;5;66;03m# Remove the TypeError from the exception chain in\u001b[39;00m\n\u001b[0;32m    464\u001b[0m             \u001b[38;5;66;03m# Python 3 (including for exceptions like SystemExit).\u001b[39;00m\n\u001b[0;32m    465\u001b[0m             \u001b[38;5;66;03m# Otherwise it looks like a bug in the code.\u001b[39;00m\n\u001b[1;32m--> 466\u001b[0m             six\u001b[38;5;241m.\u001b[39mraise_from(e, \u001b[38;5;28;01mNone\u001b[39;00m)\n\u001b[0;32m    467\u001b[0m \u001b[38;5;28;01mexcept\u001b[39;00m (SocketTimeout, BaseSSLError, SocketError) \u001b[38;5;28;01mas\u001b[39;00m e:\n",
      "File \u001b[1;32m<string>:3\u001b[0m, in \u001b[0;36mraise_from\u001b[1;34m(value, from_value)\u001b[0m\n",
      "File \u001b[1;32mC:\\ProgramData\\anaconda3\\Lib\\site-packages\\urllib3\\connectionpool.py:461\u001b[0m, in \u001b[0;36mHTTPConnectionPool._make_request\u001b[1;34m(self, conn, method, url, timeout, chunked, **httplib_request_kw)\u001b[0m\n\u001b[0;32m    460\u001b[0m \u001b[38;5;28;01mtry\u001b[39;00m:\n\u001b[1;32m--> 461\u001b[0m     httplib_response \u001b[38;5;241m=\u001b[39m conn\u001b[38;5;241m.\u001b[39mgetresponse()\n\u001b[0;32m    462\u001b[0m \u001b[38;5;28;01mexcept\u001b[39;00m \u001b[38;5;167;01mBaseException\u001b[39;00m \u001b[38;5;28;01mas\u001b[39;00m e:\n\u001b[0;32m    463\u001b[0m     \u001b[38;5;66;03m# Remove the TypeError from the exception chain in\u001b[39;00m\n\u001b[0;32m    464\u001b[0m     \u001b[38;5;66;03m# Python 3 (including for exceptions like SystemExit).\u001b[39;00m\n\u001b[0;32m    465\u001b[0m     \u001b[38;5;66;03m# Otherwise it looks like a bug in the code.\u001b[39;00m\n",
      "File \u001b[1;32mC:\\ProgramData\\anaconda3\\Lib\\http\\client.py:1378\u001b[0m, in \u001b[0;36mHTTPConnection.getresponse\u001b[1;34m(self)\u001b[0m\n\u001b[0;32m   1377\u001b[0m \u001b[38;5;28;01mtry\u001b[39;00m:\n\u001b[1;32m-> 1378\u001b[0m     response\u001b[38;5;241m.\u001b[39mbegin()\n\u001b[0;32m   1379\u001b[0m \u001b[38;5;28;01mexcept\u001b[39;00m \u001b[38;5;167;01mConnectionError\u001b[39;00m:\n",
      "File \u001b[1;32mC:\\ProgramData\\anaconda3\\Lib\\http\\client.py:318\u001b[0m, in \u001b[0;36mHTTPResponse.begin\u001b[1;34m(self)\u001b[0m\n\u001b[0;32m    317\u001b[0m \u001b[38;5;28;01mwhile\u001b[39;00m \u001b[38;5;28;01mTrue\u001b[39;00m:\n\u001b[1;32m--> 318\u001b[0m     version, status, reason \u001b[38;5;241m=\u001b[39m \u001b[38;5;28mself\u001b[39m\u001b[38;5;241m.\u001b[39m_read_status()\n\u001b[0;32m    319\u001b[0m     \u001b[38;5;28;01mif\u001b[39;00m status \u001b[38;5;241m!=\u001b[39m CONTINUE:\n",
      "File \u001b[1;32mC:\\ProgramData\\anaconda3\\Lib\\http\\client.py:279\u001b[0m, in \u001b[0;36mHTTPResponse._read_status\u001b[1;34m(self)\u001b[0m\n\u001b[0;32m    278\u001b[0m \u001b[38;5;28;01mdef\u001b[39;00m \u001b[38;5;21m_read_status\u001b[39m(\u001b[38;5;28mself\u001b[39m):\n\u001b[1;32m--> 279\u001b[0m     line \u001b[38;5;241m=\u001b[39m \u001b[38;5;28mstr\u001b[39m(\u001b[38;5;28mself\u001b[39m\u001b[38;5;241m.\u001b[39mfp\u001b[38;5;241m.\u001b[39mreadline(_MAXLINE \u001b[38;5;241m+\u001b[39m \u001b[38;5;241m1\u001b[39m), \u001b[38;5;124m\"\u001b[39m\u001b[38;5;124miso-8859-1\u001b[39m\u001b[38;5;124m\"\u001b[39m)\n\u001b[0;32m    280\u001b[0m     \u001b[38;5;28;01mif\u001b[39;00m \u001b[38;5;28mlen\u001b[39m(line) \u001b[38;5;241m>\u001b[39m _MAXLINE:\n",
      "File \u001b[1;32mC:\\ProgramData\\anaconda3\\Lib\\socket.py:706\u001b[0m, in \u001b[0;36mSocketIO.readinto\u001b[1;34m(self, b)\u001b[0m\n\u001b[0;32m    705\u001b[0m \u001b[38;5;28;01mtry\u001b[39;00m:\n\u001b[1;32m--> 706\u001b[0m     \u001b[38;5;28;01mreturn\u001b[39;00m \u001b[38;5;28mself\u001b[39m\u001b[38;5;241m.\u001b[39m_sock\u001b[38;5;241m.\u001b[39mrecv_into(b)\n\u001b[0;32m    707\u001b[0m \u001b[38;5;28;01mexcept\u001b[39;00m timeout:\n",
      "File \u001b[1;32mC:\\ProgramData\\anaconda3\\Lib\\ssl.py:1278\u001b[0m, in \u001b[0;36mSSLSocket.recv_into\u001b[1;34m(self, buffer, nbytes, flags)\u001b[0m\n\u001b[0;32m   1275\u001b[0m         \u001b[38;5;28;01mraise\u001b[39;00m \u001b[38;5;167;01mValueError\u001b[39;00m(\n\u001b[0;32m   1276\u001b[0m           \u001b[38;5;124m\"\u001b[39m\u001b[38;5;124mnon-zero flags not allowed in calls to recv_into() on \u001b[39m\u001b[38;5;132;01m%s\u001b[39;00m\u001b[38;5;124m\"\u001b[39m \u001b[38;5;241m%\u001b[39m\n\u001b[0;32m   1277\u001b[0m           \u001b[38;5;28mself\u001b[39m\u001b[38;5;241m.\u001b[39m\u001b[38;5;18m__class__\u001b[39m)\n\u001b[1;32m-> 1278\u001b[0m     \u001b[38;5;28;01mreturn\u001b[39;00m \u001b[38;5;28mself\u001b[39m\u001b[38;5;241m.\u001b[39mread(nbytes, buffer)\n\u001b[0;32m   1279\u001b[0m \u001b[38;5;28;01melse\u001b[39;00m:\n",
      "File \u001b[1;32mC:\\ProgramData\\anaconda3\\Lib\\ssl.py:1134\u001b[0m, in \u001b[0;36mSSLSocket.read\u001b[1;34m(self, len, buffer)\u001b[0m\n\u001b[0;32m   1133\u001b[0m \u001b[38;5;28;01mif\u001b[39;00m buffer \u001b[38;5;129;01mis\u001b[39;00m \u001b[38;5;129;01mnot\u001b[39;00m \u001b[38;5;28;01mNone\u001b[39;00m:\n\u001b[1;32m-> 1134\u001b[0m     \u001b[38;5;28;01mreturn\u001b[39;00m \u001b[38;5;28mself\u001b[39m\u001b[38;5;241m.\u001b[39m_sslobj\u001b[38;5;241m.\u001b[39mread(\u001b[38;5;28mlen\u001b[39m, buffer)\n\u001b[0;32m   1135\u001b[0m \u001b[38;5;28;01melse\u001b[39;00m:\n",
      "\u001b[1;31mTimeoutError\u001b[0m: The read operation timed out",
      "\nDuring handling of the above exception, another exception occurred:\n",
      "\u001b[1;31mReadTimeoutError\u001b[0m                          Traceback (most recent call last)",
      "File \u001b[1;32mC:\\ProgramData\\anaconda3\\Lib\\site-packages\\requests\\adapters.py:486\u001b[0m, in \u001b[0;36mHTTPAdapter.send\u001b[1;34m(self, request, stream, timeout, verify, cert, proxies)\u001b[0m\n\u001b[0;32m    485\u001b[0m \u001b[38;5;28;01mtry\u001b[39;00m:\n\u001b[1;32m--> 486\u001b[0m     resp \u001b[38;5;241m=\u001b[39m conn\u001b[38;5;241m.\u001b[39murlopen(\n\u001b[0;32m    487\u001b[0m         method\u001b[38;5;241m=\u001b[39mrequest\u001b[38;5;241m.\u001b[39mmethod,\n\u001b[0;32m    488\u001b[0m         url\u001b[38;5;241m=\u001b[39murl,\n\u001b[0;32m    489\u001b[0m         body\u001b[38;5;241m=\u001b[39mrequest\u001b[38;5;241m.\u001b[39mbody,\n\u001b[0;32m    490\u001b[0m         headers\u001b[38;5;241m=\u001b[39mrequest\u001b[38;5;241m.\u001b[39mheaders,\n\u001b[0;32m    491\u001b[0m         redirect\u001b[38;5;241m=\u001b[39m\u001b[38;5;28;01mFalse\u001b[39;00m,\n\u001b[0;32m    492\u001b[0m         assert_same_host\u001b[38;5;241m=\u001b[39m\u001b[38;5;28;01mFalse\u001b[39;00m,\n\u001b[0;32m    493\u001b[0m         preload_content\u001b[38;5;241m=\u001b[39m\u001b[38;5;28;01mFalse\u001b[39;00m,\n\u001b[0;32m    494\u001b[0m         decode_content\u001b[38;5;241m=\u001b[39m\u001b[38;5;28;01mFalse\u001b[39;00m,\n\u001b[0;32m    495\u001b[0m         retries\u001b[38;5;241m=\u001b[39m\u001b[38;5;28mself\u001b[39m\u001b[38;5;241m.\u001b[39mmax_retries,\n\u001b[0;32m    496\u001b[0m         timeout\u001b[38;5;241m=\u001b[39mtimeout,\n\u001b[0;32m    497\u001b[0m         chunked\u001b[38;5;241m=\u001b[39mchunked,\n\u001b[0;32m    498\u001b[0m     )\n\u001b[0;32m    500\u001b[0m \u001b[38;5;28;01mexcept\u001b[39;00m (ProtocolError, \u001b[38;5;167;01mOSError\u001b[39;00m) \u001b[38;5;28;01mas\u001b[39;00m err:\n",
      "File \u001b[1;32mC:\\ProgramData\\anaconda3\\Lib\\site-packages\\urllib3\\connectionpool.py:798\u001b[0m, in \u001b[0;36mHTTPConnectionPool.urlopen\u001b[1;34m(self, method, url, body, headers, retries, redirect, assert_same_host, timeout, pool_timeout, release_conn, chunked, body_pos, **response_kw)\u001b[0m\n\u001b[0;32m    796\u001b[0m     e \u001b[38;5;241m=\u001b[39m ProtocolError(\u001b[38;5;124m\"\u001b[39m\u001b[38;5;124mConnection aborted.\u001b[39m\u001b[38;5;124m\"\u001b[39m, e)\n\u001b[1;32m--> 798\u001b[0m retries \u001b[38;5;241m=\u001b[39m retries\u001b[38;5;241m.\u001b[39mincrement(\n\u001b[0;32m    799\u001b[0m     method, url, error\u001b[38;5;241m=\u001b[39me, _pool\u001b[38;5;241m=\u001b[39m\u001b[38;5;28mself\u001b[39m, _stacktrace\u001b[38;5;241m=\u001b[39msys\u001b[38;5;241m.\u001b[39mexc_info()[\u001b[38;5;241m2\u001b[39m]\n\u001b[0;32m    800\u001b[0m )\n\u001b[0;32m    801\u001b[0m retries\u001b[38;5;241m.\u001b[39msleep()\n",
      "File \u001b[1;32mC:\\ProgramData\\anaconda3\\Lib\\site-packages\\urllib3\\util\\retry.py:550\u001b[0m, in \u001b[0;36mRetry.increment\u001b[1;34m(self, method, url, response, error, _pool, _stacktrace)\u001b[0m\n\u001b[0;32m    549\u001b[0m \u001b[38;5;28;01mif\u001b[39;00m read \u001b[38;5;129;01mis\u001b[39;00m \u001b[38;5;28;01mFalse\u001b[39;00m \u001b[38;5;129;01mor\u001b[39;00m \u001b[38;5;129;01mnot\u001b[39;00m \u001b[38;5;28mself\u001b[39m\u001b[38;5;241m.\u001b[39m_is_method_retryable(method):\n\u001b[1;32m--> 550\u001b[0m     \u001b[38;5;28;01mraise\u001b[39;00m six\u001b[38;5;241m.\u001b[39mreraise(\u001b[38;5;28mtype\u001b[39m(error), error, _stacktrace)\n\u001b[0;32m    551\u001b[0m \u001b[38;5;28;01melif\u001b[39;00m read \u001b[38;5;129;01mis\u001b[39;00m \u001b[38;5;129;01mnot\u001b[39;00m \u001b[38;5;28;01mNone\u001b[39;00m:\n",
      "File \u001b[1;32mC:\\ProgramData\\anaconda3\\Lib\\site-packages\\urllib3\\packages\\six.py:770\u001b[0m, in \u001b[0;36mreraise\u001b[1;34m(tp, value, tb)\u001b[0m\n\u001b[0;32m    769\u001b[0m         \u001b[38;5;28;01mraise\u001b[39;00m value\u001b[38;5;241m.\u001b[39mwith_traceback(tb)\n\u001b[1;32m--> 770\u001b[0m     \u001b[38;5;28;01mraise\u001b[39;00m value\n\u001b[0;32m    771\u001b[0m \u001b[38;5;28;01mfinally\u001b[39;00m:\n",
      "File \u001b[1;32mC:\\ProgramData\\anaconda3\\Lib\\site-packages\\urllib3\\connectionpool.py:714\u001b[0m, in \u001b[0;36mHTTPConnectionPool.urlopen\u001b[1;34m(self, method, url, body, headers, retries, redirect, assert_same_host, timeout, pool_timeout, release_conn, chunked, body_pos, **response_kw)\u001b[0m\n\u001b[0;32m    713\u001b[0m \u001b[38;5;66;03m# Make the request on the httplib connection object.\u001b[39;00m\n\u001b[1;32m--> 714\u001b[0m httplib_response \u001b[38;5;241m=\u001b[39m \u001b[38;5;28mself\u001b[39m\u001b[38;5;241m.\u001b[39m_make_request(\n\u001b[0;32m    715\u001b[0m     conn,\n\u001b[0;32m    716\u001b[0m     method,\n\u001b[0;32m    717\u001b[0m     url,\n\u001b[0;32m    718\u001b[0m     timeout\u001b[38;5;241m=\u001b[39mtimeout_obj,\n\u001b[0;32m    719\u001b[0m     body\u001b[38;5;241m=\u001b[39mbody,\n\u001b[0;32m    720\u001b[0m     headers\u001b[38;5;241m=\u001b[39mheaders,\n\u001b[0;32m    721\u001b[0m     chunked\u001b[38;5;241m=\u001b[39mchunked,\n\u001b[0;32m    722\u001b[0m )\n\u001b[0;32m    724\u001b[0m \u001b[38;5;66;03m# If we're going to release the connection in ``finally:``, then\u001b[39;00m\n\u001b[0;32m    725\u001b[0m \u001b[38;5;66;03m# the response doesn't need to know about the connection. Otherwise\u001b[39;00m\n\u001b[0;32m    726\u001b[0m \u001b[38;5;66;03m# it will also try to release it and we'll have a double-release\u001b[39;00m\n\u001b[0;32m    727\u001b[0m \u001b[38;5;66;03m# mess.\u001b[39;00m\n",
      "File \u001b[1;32mC:\\ProgramData\\anaconda3\\Lib\\site-packages\\urllib3\\connectionpool.py:468\u001b[0m, in \u001b[0;36mHTTPConnectionPool._make_request\u001b[1;34m(self, conn, method, url, timeout, chunked, **httplib_request_kw)\u001b[0m\n\u001b[0;32m    467\u001b[0m \u001b[38;5;28;01mexcept\u001b[39;00m (SocketTimeout, BaseSSLError, SocketError) \u001b[38;5;28;01mas\u001b[39;00m e:\n\u001b[1;32m--> 468\u001b[0m     \u001b[38;5;28mself\u001b[39m\u001b[38;5;241m.\u001b[39m_raise_timeout(err\u001b[38;5;241m=\u001b[39me, url\u001b[38;5;241m=\u001b[39murl, timeout_value\u001b[38;5;241m=\u001b[39mread_timeout)\n\u001b[0;32m    469\u001b[0m     \u001b[38;5;28;01mraise\u001b[39;00m\n",
      "File \u001b[1;32mC:\\ProgramData\\anaconda3\\Lib\\site-packages\\urllib3\\connectionpool.py:357\u001b[0m, in \u001b[0;36mHTTPConnectionPool._raise_timeout\u001b[1;34m(self, err, url, timeout_value)\u001b[0m\n\u001b[0;32m    356\u001b[0m \u001b[38;5;28;01mif\u001b[39;00m \u001b[38;5;28misinstance\u001b[39m(err, SocketTimeout):\n\u001b[1;32m--> 357\u001b[0m     \u001b[38;5;28;01mraise\u001b[39;00m ReadTimeoutError(\n\u001b[0;32m    358\u001b[0m         \u001b[38;5;28mself\u001b[39m, url, \u001b[38;5;124m\"\u001b[39m\u001b[38;5;124mRead timed out. (read timeout=\u001b[39m\u001b[38;5;132;01m%s\u001b[39;00m\u001b[38;5;124m)\u001b[39m\u001b[38;5;124m\"\u001b[39m \u001b[38;5;241m%\u001b[39m timeout_value\n\u001b[0;32m    359\u001b[0m     )\n\u001b[0;32m    361\u001b[0m \u001b[38;5;66;03m# See the above comment about EAGAIN in Python 3. In Python 2 we have\u001b[39;00m\n\u001b[0;32m    362\u001b[0m \u001b[38;5;66;03m# to specifically catch it and throw the timeout error\u001b[39;00m\n",
      "\u001b[1;31mReadTimeoutError\u001b[0m: HTTPSConnectionPool(host='api.openai.com', port=443): Read timed out. (read timeout=600)",
      "\nDuring handling of the above exception, another exception occurred:\n",
      "\u001b[1;31mReadTimeout\u001b[0m                               Traceback (most recent call last)",
      "File \u001b[1;32mC:\\ProgramData\\anaconda3\\Lib\\site-packages\\openai\\api_requestor.py:606\u001b[0m, in \u001b[0;36mAPIRequestor.request_raw\u001b[1;34m(self, method, url, params, supplied_headers, files, stream, request_id, request_timeout)\u001b[0m\n\u001b[0;32m    605\u001b[0m \u001b[38;5;28;01mtry\u001b[39;00m:\n\u001b[1;32m--> 606\u001b[0m     result \u001b[38;5;241m=\u001b[39m _thread_context\u001b[38;5;241m.\u001b[39msession\u001b[38;5;241m.\u001b[39mrequest(\n\u001b[0;32m    607\u001b[0m         method,\n\u001b[0;32m    608\u001b[0m         abs_url,\n\u001b[0;32m    609\u001b[0m         headers\u001b[38;5;241m=\u001b[39mheaders,\n\u001b[0;32m    610\u001b[0m         data\u001b[38;5;241m=\u001b[39mdata,\n\u001b[0;32m    611\u001b[0m         files\u001b[38;5;241m=\u001b[39mfiles,\n\u001b[0;32m    612\u001b[0m         stream\u001b[38;5;241m=\u001b[39mstream,\n\u001b[0;32m    613\u001b[0m         timeout\u001b[38;5;241m=\u001b[39mrequest_timeout \u001b[38;5;28;01mif\u001b[39;00m request_timeout \u001b[38;5;28;01melse\u001b[39;00m TIMEOUT_SECS,\n\u001b[0;32m    614\u001b[0m         proxies\u001b[38;5;241m=\u001b[39m_thread_context\u001b[38;5;241m.\u001b[39msession\u001b[38;5;241m.\u001b[39mproxies,\n\u001b[0;32m    615\u001b[0m     )\n\u001b[0;32m    616\u001b[0m \u001b[38;5;28;01mexcept\u001b[39;00m requests\u001b[38;5;241m.\u001b[39mexceptions\u001b[38;5;241m.\u001b[39mTimeout \u001b[38;5;28;01mas\u001b[39;00m e:\n",
      "File \u001b[1;32mC:\\ProgramData\\anaconda3\\Lib\\site-packages\\requests\\sessions.py:589\u001b[0m, in \u001b[0;36mSession.request\u001b[1;34m(self, method, url, params, data, headers, cookies, files, auth, timeout, allow_redirects, proxies, hooks, stream, verify, cert, json)\u001b[0m\n\u001b[0;32m    588\u001b[0m send_kwargs\u001b[38;5;241m.\u001b[39mupdate(settings)\n\u001b[1;32m--> 589\u001b[0m resp \u001b[38;5;241m=\u001b[39m \u001b[38;5;28mself\u001b[39m\u001b[38;5;241m.\u001b[39msend(prep, \u001b[38;5;241m*\u001b[39m\u001b[38;5;241m*\u001b[39msend_kwargs)\n\u001b[0;32m    591\u001b[0m \u001b[38;5;28;01mreturn\u001b[39;00m resp\n",
      "File \u001b[1;32mC:\\ProgramData\\anaconda3\\Lib\\site-packages\\requests\\sessions.py:703\u001b[0m, in \u001b[0;36mSession.send\u001b[1;34m(self, request, **kwargs)\u001b[0m\n\u001b[0;32m    702\u001b[0m \u001b[38;5;66;03m# Send the request\u001b[39;00m\n\u001b[1;32m--> 703\u001b[0m r \u001b[38;5;241m=\u001b[39m adapter\u001b[38;5;241m.\u001b[39msend(request, \u001b[38;5;241m*\u001b[39m\u001b[38;5;241m*\u001b[39mkwargs)\n\u001b[0;32m    705\u001b[0m \u001b[38;5;66;03m# Total elapsed time of the request (approximately)\u001b[39;00m\n",
      "File \u001b[1;32mC:\\ProgramData\\anaconda3\\Lib\\site-packages\\requests\\adapters.py:532\u001b[0m, in \u001b[0;36mHTTPAdapter.send\u001b[1;34m(self, request, stream, timeout, verify, cert, proxies)\u001b[0m\n\u001b[0;32m    531\u001b[0m \u001b[38;5;28;01melif\u001b[39;00m \u001b[38;5;28misinstance\u001b[39m(e, ReadTimeoutError):\n\u001b[1;32m--> 532\u001b[0m     \u001b[38;5;28;01mraise\u001b[39;00m ReadTimeout(e, request\u001b[38;5;241m=\u001b[39mrequest)\n\u001b[0;32m    533\u001b[0m \u001b[38;5;28;01melif\u001b[39;00m \u001b[38;5;28misinstance\u001b[39m(e, _InvalidHeader):\n",
      "\u001b[1;31mReadTimeout\u001b[0m: HTTPSConnectionPool(host='api.openai.com', port=443): Read timed out. (read timeout=600)",
      "\nThe above exception was the direct cause of the following exception:\n",
      "\u001b[1;31mTimeout\u001b[0m                                   Traceback (most recent call last)",
      "Cell \u001b[1;32mIn[235], line 4\u001b[0m\n\u001b[0;32m      2\u001b[0m \u001b[38;5;28;01mfor\u001b[39;00m j \u001b[38;5;129;01min\u001b[39;00m \u001b[38;5;28mrange\u001b[39m(\u001b[38;5;28mlen\u001b[39m(df_train[df_train[\u001b[38;5;124m'\u001b[39m\u001b[38;5;124mGenre\u001b[39m\u001b[38;5;124m'\u001b[39m]\u001b[38;5;241m==\u001b[39mgenre_list[i]])):\n\u001b[0;32m      3\u001b[0m     random_genre_lyrics \u001b[38;5;241m=\u001b[39m df_train[df_train[\u001b[38;5;124m'\u001b[39m\u001b[38;5;124mGenre\u001b[39m\u001b[38;5;124m'\u001b[39m]\u001b[38;5;241m==\u001b[39mgenre_list[i]][\u001b[38;5;124m'\u001b[39m\u001b[38;5;124mLyrics\u001b[39m\u001b[38;5;124m'\u001b[39m]\u001b[38;5;241m.\u001b[39msample(n\u001b[38;5;241m=\u001b[39m\u001b[38;5;241m1\u001b[39m)\u001b[38;5;241m.\u001b[39mto_string(index\u001b[38;5;241m=\u001b[39m\u001b[38;5;28;01mFalse\u001b[39;00m)\n\u001b[1;32m----> 4\u001b[0m     generated_lyrics \u001b[38;5;241m=\u001b[39m synthetic_lyrics_generator(random_genre_lyrics)\n\u001b[0;32m      5\u001b[0m     \u001b[38;5;28;01mif\u001b[39;00m generated_lyrics \u001b[38;5;129;01mnot\u001b[39;00m \u001b[38;5;129;01min\u001b[39;00m synthetic_genre_lyrics_list[i]:\n\u001b[0;32m      6\u001b[0m         synthetic_genre_lyrics_list[i]\u001b[38;5;241m.\u001b[39mappend(generated_lyrics)\n",
      "Cell \u001b[1;32mIn[222], line 8\u001b[0m, in \u001b[0;36msynthetic_lyrics_generator\u001b[1;34m(random_genre_lyrics)\u001b[0m\n\u001b[0;32m      4\u001b[0m prompt \u001b[38;5;241m=\u001b[39m \u001b[38;5;124m\"\u001b[39m\u001b[38;5;124mGenerate a lyrics similar to this:\u001b[39m\u001b[38;5;124m\"\u001b[39m \u001b[38;5;241m+\u001b[39m random_genre_lyrics\n\u001b[0;32m      6\u001b[0m messages\u001b[38;5;241m=\u001b[39m[{\u001b[38;5;124m\"\u001b[39m\u001b[38;5;124mrole\u001b[39m\u001b[38;5;124m\"\u001b[39m: \u001b[38;5;124m\"\u001b[39m\u001b[38;5;124muser\u001b[39m\u001b[38;5;124m\"\u001b[39m, \u001b[38;5;124m\"\u001b[39m\u001b[38;5;124mcontent\u001b[39m\u001b[38;5;124m\"\u001b[39m: prompt}]\n\u001b[1;32m----> 8\u001b[0m response \u001b[38;5;241m=\u001b[39m openai\u001b[38;5;241m.\u001b[39mChatCompletion\u001b[38;5;241m.\u001b[39mcreate(\n\u001b[0;32m      9\u001b[0m   model\u001b[38;5;241m=\u001b[39m\u001b[38;5;124m\"\u001b[39m\u001b[38;5;124mgpt-3.5-turbo\u001b[39m\u001b[38;5;124m\"\u001b[39m,\n\u001b[0;32m     10\u001b[0m   messages\u001b[38;5;241m=\u001b[39mmessages,\n\u001b[0;32m     11\u001b[0m   temperature\u001b[38;5;241m=\u001b[39m\u001b[38;5;241m0.5\u001b[39m,\n\u001b[0;32m     12\u001b[0m   max_tokens\u001b[38;5;241m=\u001b[39m\u001b[38;5;241m100\u001b[39m,\n\u001b[0;32m     13\u001b[0m   top_p\u001b[38;5;241m=\u001b[39m\u001b[38;5;241m1.0\u001b[39m,\n\u001b[0;32m     14\u001b[0m   frequency_penalty\u001b[38;5;241m=\u001b[39m\u001b[38;5;241m0.0\u001b[39m,\n\u001b[0;32m     15\u001b[0m   presence_penalty\u001b[38;5;241m=\u001b[39m\u001b[38;5;241m0.0\u001b[39m\n\u001b[0;32m     16\u001b[0m )\n\u001b[0;32m     18\u001b[0m \u001b[38;5;28;01mreturn\u001b[39;00m response[\u001b[38;5;124m'\u001b[39m\u001b[38;5;124mchoices\u001b[39m\u001b[38;5;124m'\u001b[39m][\u001b[38;5;241m0\u001b[39m][\u001b[38;5;124m'\u001b[39m\u001b[38;5;124mmessage\u001b[39m\u001b[38;5;124m'\u001b[39m][\u001b[38;5;124m'\u001b[39m\u001b[38;5;124mcontent\u001b[39m\u001b[38;5;124m'\u001b[39m]\n",
      "File \u001b[1;32mC:\\ProgramData\\anaconda3\\Lib\\site-packages\\openai\\api_resources\\chat_completion.py:25\u001b[0m, in \u001b[0;36mChatCompletion.create\u001b[1;34m(cls, *args, **kwargs)\u001b[0m\n\u001b[0;32m     23\u001b[0m \u001b[38;5;28;01mwhile\u001b[39;00m \u001b[38;5;28;01mTrue\u001b[39;00m:\n\u001b[0;32m     24\u001b[0m     \u001b[38;5;28;01mtry\u001b[39;00m:\n\u001b[1;32m---> 25\u001b[0m         \u001b[38;5;28;01mreturn\u001b[39;00m \u001b[38;5;28msuper\u001b[39m()\u001b[38;5;241m.\u001b[39mcreate(\u001b[38;5;241m*\u001b[39margs, \u001b[38;5;241m*\u001b[39m\u001b[38;5;241m*\u001b[39mkwargs)\n\u001b[0;32m     26\u001b[0m     \u001b[38;5;28;01mexcept\u001b[39;00m TryAgain \u001b[38;5;28;01mas\u001b[39;00m e:\n\u001b[0;32m     27\u001b[0m         \u001b[38;5;28;01mif\u001b[39;00m timeout \u001b[38;5;129;01mis\u001b[39;00m \u001b[38;5;129;01mnot\u001b[39;00m \u001b[38;5;28;01mNone\u001b[39;00m \u001b[38;5;129;01mand\u001b[39;00m time\u001b[38;5;241m.\u001b[39mtime() \u001b[38;5;241m>\u001b[39m start \u001b[38;5;241m+\u001b[39m timeout:\n",
      "File \u001b[1;32mC:\\ProgramData\\anaconda3\\Lib\\site-packages\\openai\\api_resources\\abstract\\engine_api_resource.py:155\u001b[0m, in \u001b[0;36mEngineAPIResource.create\u001b[1;34m(cls, api_key, api_base, api_type, request_id, api_version, organization, **params)\u001b[0m\n\u001b[0;32m    129\u001b[0m \u001b[38;5;129m@classmethod\u001b[39m\n\u001b[0;32m    130\u001b[0m \u001b[38;5;28;01mdef\u001b[39;00m \u001b[38;5;21mcreate\u001b[39m(\n\u001b[0;32m    131\u001b[0m     \u001b[38;5;28mcls\u001b[39m,\n\u001b[1;32m   (...)\u001b[0m\n\u001b[0;32m    138\u001b[0m     \u001b[38;5;241m*\u001b[39m\u001b[38;5;241m*\u001b[39mparams,\n\u001b[0;32m    139\u001b[0m ):\n\u001b[0;32m    140\u001b[0m     (\n\u001b[0;32m    141\u001b[0m         deployment_id,\n\u001b[0;32m    142\u001b[0m         engine,\n\u001b[1;32m   (...)\u001b[0m\n\u001b[0;32m    152\u001b[0m         api_key, api_base, api_type, api_version, organization, \u001b[38;5;241m*\u001b[39m\u001b[38;5;241m*\u001b[39mparams\n\u001b[0;32m    153\u001b[0m     )\n\u001b[1;32m--> 155\u001b[0m     response, _, api_key \u001b[38;5;241m=\u001b[39m requestor\u001b[38;5;241m.\u001b[39mrequest(\n\u001b[0;32m    156\u001b[0m         \u001b[38;5;124m\"\u001b[39m\u001b[38;5;124mpost\u001b[39m\u001b[38;5;124m\"\u001b[39m,\n\u001b[0;32m    157\u001b[0m         url,\n\u001b[0;32m    158\u001b[0m         params\u001b[38;5;241m=\u001b[39mparams,\n\u001b[0;32m    159\u001b[0m         headers\u001b[38;5;241m=\u001b[39mheaders,\n\u001b[0;32m    160\u001b[0m         stream\u001b[38;5;241m=\u001b[39mstream,\n\u001b[0;32m    161\u001b[0m         request_id\u001b[38;5;241m=\u001b[39mrequest_id,\n\u001b[0;32m    162\u001b[0m         request_timeout\u001b[38;5;241m=\u001b[39mrequest_timeout,\n\u001b[0;32m    163\u001b[0m     )\n\u001b[0;32m    165\u001b[0m     \u001b[38;5;28;01mif\u001b[39;00m stream:\n\u001b[0;32m    166\u001b[0m         \u001b[38;5;66;03m# must be an iterator\u001b[39;00m\n\u001b[0;32m    167\u001b[0m         \u001b[38;5;28;01massert\u001b[39;00m \u001b[38;5;129;01mnot\u001b[39;00m \u001b[38;5;28misinstance\u001b[39m(response, OpenAIResponse)\n",
      "File \u001b[1;32mC:\\ProgramData\\anaconda3\\Lib\\site-packages\\openai\\api_requestor.py:289\u001b[0m, in \u001b[0;36mAPIRequestor.request\u001b[1;34m(self, method, url, params, headers, files, stream, request_id, request_timeout)\u001b[0m\n\u001b[0;32m    278\u001b[0m \u001b[38;5;28;01mdef\u001b[39;00m \u001b[38;5;21mrequest\u001b[39m(\n\u001b[0;32m    279\u001b[0m     \u001b[38;5;28mself\u001b[39m,\n\u001b[0;32m    280\u001b[0m     method,\n\u001b[1;32m   (...)\u001b[0m\n\u001b[0;32m    287\u001b[0m     request_timeout: Optional[Union[\u001b[38;5;28mfloat\u001b[39m, Tuple[\u001b[38;5;28mfloat\u001b[39m, \u001b[38;5;28mfloat\u001b[39m]]] \u001b[38;5;241m=\u001b[39m \u001b[38;5;28;01mNone\u001b[39;00m,\n\u001b[0;32m    288\u001b[0m ) \u001b[38;5;241m-\u001b[39m\u001b[38;5;241m>\u001b[39m Tuple[Union[OpenAIResponse, Iterator[OpenAIResponse]], \u001b[38;5;28mbool\u001b[39m, \u001b[38;5;28mstr\u001b[39m]:\n\u001b[1;32m--> 289\u001b[0m     result \u001b[38;5;241m=\u001b[39m \u001b[38;5;28mself\u001b[39m\u001b[38;5;241m.\u001b[39mrequest_raw(\n\u001b[0;32m    290\u001b[0m         method\u001b[38;5;241m.\u001b[39mlower(),\n\u001b[0;32m    291\u001b[0m         url,\n\u001b[0;32m    292\u001b[0m         params\u001b[38;5;241m=\u001b[39mparams,\n\u001b[0;32m    293\u001b[0m         supplied_headers\u001b[38;5;241m=\u001b[39mheaders,\n\u001b[0;32m    294\u001b[0m         files\u001b[38;5;241m=\u001b[39mfiles,\n\u001b[0;32m    295\u001b[0m         stream\u001b[38;5;241m=\u001b[39mstream,\n\u001b[0;32m    296\u001b[0m         request_id\u001b[38;5;241m=\u001b[39mrequest_id,\n\u001b[0;32m    297\u001b[0m         request_timeout\u001b[38;5;241m=\u001b[39mrequest_timeout,\n\u001b[0;32m    298\u001b[0m     )\n\u001b[0;32m    299\u001b[0m     resp, got_stream \u001b[38;5;241m=\u001b[39m \u001b[38;5;28mself\u001b[39m\u001b[38;5;241m.\u001b[39m_interpret_response(result, stream)\n\u001b[0;32m    300\u001b[0m     \u001b[38;5;28;01mreturn\u001b[39;00m resp, got_stream, \u001b[38;5;28mself\u001b[39m\u001b[38;5;241m.\u001b[39mapi_key\n",
      "File \u001b[1;32mC:\\ProgramData\\anaconda3\\Lib\\site-packages\\openai\\api_requestor.py:617\u001b[0m, in \u001b[0;36mAPIRequestor.request_raw\u001b[1;34m(self, method, url, params, supplied_headers, files, stream, request_id, request_timeout)\u001b[0m\n\u001b[0;32m    606\u001b[0m     result \u001b[38;5;241m=\u001b[39m _thread_context\u001b[38;5;241m.\u001b[39msession\u001b[38;5;241m.\u001b[39mrequest(\n\u001b[0;32m    607\u001b[0m         method,\n\u001b[0;32m    608\u001b[0m         abs_url,\n\u001b[1;32m   (...)\u001b[0m\n\u001b[0;32m    614\u001b[0m         proxies\u001b[38;5;241m=\u001b[39m_thread_context\u001b[38;5;241m.\u001b[39msession\u001b[38;5;241m.\u001b[39mproxies,\n\u001b[0;32m    615\u001b[0m     )\n\u001b[0;32m    616\u001b[0m \u001b[38;5;28;01mexcept\u001b[39;00m requests\u001b[38;5;241m.\u001b[39mexceptions\u001b[38;5;241m.\u001b[39mTimeout \u001b[38;5;28;01mas\u001b[39;00m e:\n\u001b[1;32m--> 617\u001b[0m     \u001b[38;5;28;01mraise\u001b[39;00m error\u001b[38;5;241m.\u001b[39mTimeout(\u001b[38;5;124m\"\u001b[39m\u001b[38;5;124mRequest timed out: \u001b[39m\u001b[38;5;132;01m{}\u001b[39;00m\u001b[38;5;124m\"\u001b[39m\u001b[38;5;241m.\u001b[39mformat(e)) \u001b[38;5;28;01mfrom\u001b[39;00m \u001b[38;5;21;01me\u001b[39;00m\n\u001b[0;32m    618\u001b[0m \u001b[38;5;28;01mexcept\u001b[39;00m requests\u001b[38;5;241m.\u001b[39mexceptions\u001b[38;5;241m.\u001b[39mRequestException \u001b[38;5;28;01mas\u001b[39;00m e:\n\u001b[0;32m    619\u001b[0m     \u001b[38;5;28;01mraise\u001b[39;00m error\u001b[38;5;241m.\u001b[39mAPIConnectionError(\n\u001b[0;32m    620\u001b[0m         \u001b[38;5;124m\"\u001b[39m\u001b[38;5;124mError communicating with OpenAI: \u001b[39m\u001b[38;5;132;01m{}\u001b[39;00m\u001b[38;5;124m\"\u001b[39m\u001b[38;5;241m.\u001b[39mformat(e)\n\u001b[0;32m    621\u001b[0m     ) \u001b[38;5;28;01mfrom\u001b[39;00m \u001b[38;5;21;01me\u001b[39;00m\n",
      "\u001b[1;31mTimeout\u001b[0m: Request timed out: HTTPSConnectionPool(host='api.openai.com', port=443): Read timed out. (read timeout=600)"
     ]
    }
   ],
   "source": [
    "for i in range(10):\n",
    "    for j in range(len(df_train[df_train['Genre']==genre_list[i]])):\n",
    "        random_genre_lyrics = df_train[df_train['Genre']==genre_list[i]]['Lyrics'].sample(n=1).to_string(index=False)\n",
    "        generated_lyrics = synthetic_lyrics_generator(random_genre_lyrics)\n",
    "        if generated_lyrics not in synthetic_genre_lyrics_list[i]:\n",
    "            synthetic_genre_lyrics_list[i].append(generated_lyrics)"
   ]
  },
  {
   "cell_type": "code",
   "execution_count": 244,
   "metadata": {},
   "outputs": [
    {
     "data": {
      "text/plain": [
       "1"
      ]
     },
     "execution_count": 244,
     "metadata": {},
     "output_type": "execute_result"
    }
   ],
   "source": [
    "len(synthetic_genre_lyrics_list[5])"
   ]
  },
  {
   "cell_type": "code",
   "execution_count": 246,
   "metadata": {},
   "outputs": [
    {
     "name": "stdout",
     "output_type": "stream",
     "text": [
      "759\n",
      "1\n",
      "1\n",
      "1\n",
      "1\n",
      "1\n",
      "1\n",
      "1\n",
      "1\n",
      "1\n"
     ]
    }
   ],
   "source": [
    "for i in synthetic_genre_lyrics_list:\n",
    "    print(len(i))"
   ]
  },
  {
   "cell_type": "code",
   "execution_count": 225,
   "metadata": {},
   "outputs": [
    {
     "name": "stdout",
     "output_type": "stream",
     "text": [
      "---------Genre 1 --------\n",
      "--------------Lyrics 1 in Genre 1 ---------\n",
      "omanticizing\n",
      "The weight of my broken family tree\n",
      "My father, he carried burdens\n",
      "With a mask of stoicism, he hid his plea\n",
      "\n",
      "I've grown tired of wishful thinking\n",
      "It weighs heavy on my chest\n",
      "No room for second chances\n",
      "I carry the weight as I leave the rest\n",
      "\n",
      "Pride consumed my father's heart\n",
      "But never did he take pride in me\n",
      "I fought for my own survival\n",
      "Yet I was painted as the villain, you see\n",
      "\n",
      "You dev\n",
      "---------Genre 2 --------\n",
      "--------------Lyrics 1 in Genre 2 ---------\n",
      "ding her with a stare\\nShe plays the game without a care\\nBut deep down, she's feeling lonely, oh yeah\n",
      "\n",
      "She's a risk-taker, living on the edge\n",
      "Leaving hearts shattered, with every pledge\n",
      "But inside, there's a voice that begs\n",
      "For someone to love her, to hold and protect\n",
      "\n",
      "So why not take a chance\n",
      "On this Hot Street, where passions dance\n",
      "Feel the rhythm, let your heart advance\n",
      "In this world of desire, take\n",
      "---------Genre 3 --------\n",
      "--------------Lyrics 1 in Genre 3 ---------\n",
      "turn on me\n",
      "But I've learned to cope\n",
      "With this empty home\n",
      "I've grown tired of your lies\n",
      "And your distant eyes\n",
      "\n",
      "I'll be packing my bags\n",
      "Leaving all that we had\n",
      "This place holds no love\n",
      "It's just an empty shell\n",
      "I'll find my own way\n",
      "I'll be okay\n",
      "\n",
      "Home, this house is not a home\n",
      "Home, this house is not a home\n",
      "I'll find my own place to roam\n",
      "I'm better off alone\n",
      "---------Genre 4 --------\n",
      "--------------Lyrics 1 in Genre 4 ---------\n",
      "The autumn wind blew through the town, I recall\n",
      "In September, as the leaves began to fall\n",
      "The sky turned gray, just like a fading fire\n",
      "That September, when our love reached its highest wire\n",
      "\n",
      "Every word you spoke, a melody so tender\n",
      "The raindrops danced, creating a sweet surrender\n",
      "Though seasons change, and spring is now in bloom\n",
      "In my heart, it's still September, our love's perfume\n",
      "\n",
      "To every word of love, I held onto your embrace\n",
      "\n",
      "---------Genre 5 --------\n",
      "--------------Lyrics 1 in Genre 5 ---------\n",
      "en watch him fall\\n\\nYes sign of judgement yes\\nSign of judgement yes\\nSign of judgement time aint long\\n\\nYes sign of judgement yes\\nSign of judgement yes\\nSign of judgement time aint long\\n\\nI see the signs all around\\nThe world is in decay\\nPeople blinded by their greed\\nIgnoring the price they'll pay\\n\\nI said yes sign of judgement yes\\nSign of judgement yes\\nSign of judgement time aint long\\n\\nYes sign of judgement yes\n",
      "---------Genre 6 --------\n",
      "--------------Lyrics 1 in Genre 6 ---------\n",
      "I came into your life, just like a passing breeze\n",
      "No intentions to disrupt, no intentions to please\n",
      "I've been lost in my thoughts, creating movies in my mind\n",
      "But now we say, don't let go, let's leave the past behind\n",
      "\n",
      "I try to find my pride, but it's slipping away\n",
      "I can't recall the way I used to feel about you, I must say\n",
      "So leave as swiftly as you came, no need for an invite\n",
      "Nowhere to\n",
      "---------Genre 7 --------\n",
      "--------------Lyrics 1 in Genre 7 ---------\n",
      "that you feel the same way too\n",
      "Cause darling, you're the missing piece\n",
      "In this puzzle called my heart's release\n",
      "I've been searching for so long\n",
      "For a love that feels so strong\n",
      "\n",
      "But now you're here, right by my side\n",
      "And all the pain and loneliness subsides\n",
      "With every touch, every glance\n",
      "I feel like I'm given a second chance\n",
      "\n",
      "So let's dance under the moonlit sky\n",
      "Our love soaring, reaching new heights\n",
      "I'll cherish\n",
      "---------Genre 8 --------\n",
      "--------------Lyrics 1 in Genre 8 ---------\n",
      "It's mine, I want it, give it to me now\n",
      "Shake the party, Ricky, make 'em scream out loud\n",
      "Where's the Remy at? Let's keep it flowing\n",
      "Spinning like rims on Dayton's and Vogues, we're glowing\n",
      "\n",
      "And oh my, oh my, the indo's hitting hard\n",
      "Freeze like a frosty, with that cappuccino taste, so bizarre\n",
      "They call my product the cookies in the cake\n",
      "Damn baby,\n",
      "---------Genre 9 --------\n",
      "--------------Lyrics 1 in Genre 9 ---------\n",
      "o fall apart\n",
      "\n",
      "I forgot what my lover said\n",
      "I forgot what they said\n",
      "But the memories still linger\n",
      "As we shared our secret bed\n",
      "\n",
      "In a city painted with colors\n",
      "In a city drenched in tears\n",
      "\n",
      "I've got seven days to chase my dreams\n",
      "Or seven ways to drown in fears\n",
      "\n",
      "I forgot what my sister said\n",
      "I forgot what she said\n",
      "But I hold no regrets within\n",
      "Only the moments when we bled\n",
      "\n",
      "On a bridge of shattered souls\n",
      "I felt\n",
      "---------Genre 10 --------\n",
      "--------------Lyrics 1 in Genre 10 ---------\n",
      "Sometimes I stroll through the streets of old Chinatown\n",
      "Lost in the charm, as I wander around\n",
      "Where lanterns glow and shadows dance on the wall\n",
      "I'm lost in a dream, of my China doll\n",
      "\n",
      "In a silk cheongsam, she's a vision so rare\n",
      "With azure trousers and lips so fair\n",
      "Oh, my China doll, my heartache recalls\n",
      "I'll never forget you, my precious China doll\n",
      "\n",
      "Sometimes I linger, by the docks so grand\n",
      "Yearning\n"
     ]
    }
   ],
   "source": [
    "for i in range(len(synthetic_genre_lyrics_list)):\n",
    "    print(\"---------Genre\", i+1, \"--------\")\n",
    "    for j in range(len(synthetic_genre_lyrics_list[i])):\n",
    "        print(\"--------------Lyrics\", j+1, \"in\", \"Genre\", i+1, \"---------\")\n",
    "        print(synthetic_genre_lyrics_list[i][j])"
   ]
  }
 ],
 "metadata": {
  "kernelspec": {
   "display_name": "Python 3 (ipykernel)",
   "language": "python",
   "name": "python3"
  },
  "language_info": {
   "codemirror_mode": {
    "name": "ipython",
    "version": 3
   },
   "file_extension": ".py",
   "mimetype": "text/x-python",
   "name": "python",
   "nbconvert_exporter": "python",
   "pygments_lexer": "ipython3",
   "version": "3.11.4"
  }
 },
 "nbformat": 4,
 "nbformat_minor": 4
}
